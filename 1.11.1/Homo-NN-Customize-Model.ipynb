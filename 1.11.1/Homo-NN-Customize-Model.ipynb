{
 "cells": [
  {
   "cell_type": "markdown",
   "id": "7a982d9b",
   "metadata": {},
   "source": [
    "# Homo-NN Customize Model"
   ]
  },
  {
   "cell_type": "markdown",
   "id": "5040f034",
   "metadata": {},
   "source": [
    "# Build a model\n",
    "\n",
    "In FATE 1.10, you can use the pipeline to submit a PyTorch Sequential model. However, the Sequential model, in combination with PyTorch's built-in layers, may not be sufficient for representing more complex models. For instance, when constructing a residual module similar to those found in ResNet, the output of some modules needs to be reused, which may not be possible using the Sequential model.\n",
    "\n",
    "To address this issue, the model_zoo module was introduced in FATE 1.10, located under [federatedml.nn.model_zoo](../../../../python/federatedml/nn/model_zoo/). This module allows you to customize your own PyTorch model, provided that it is developed based on torch.nn.Module and implements the forward interface. For more information, see the PyTorch documentation  [Pytorch Module](https://pytorch.org/docs/stable/notes/modules.html#a-simple-custom-module) on custom modules. To use your custom model in a federated task, simply place it in the federatedml/nn/model_zoo directory and specify the module and model class through the interface when submitting the task. Homo-NN will automatically search and import the model you have implemented.\n",
    "\n",
    "As an example, consider the task of MNIST handwriting recognition. We can first write a simple neural network module with residual connections locally, and then use it in a federated task.\n",
    "\n",
    "## A Customized Model\n",
    "\n",
    "Name the model code image_net.py, you can put it directly under federatedml/nn/model_zoo or use the shortcut interface of jupyter notebook to save it directly to federatedml/nn/model_zoo"
   ]
  },
  {
   "cell_type": "code",
   "execution_count": 55,
   "id": "65ebc7d8-6c52-45ce-b412-6aafdc9b251a",
   "metadata": {},
   "outputs": [
    {
     "name": "stdout",
     "output_type": "stream",
     "text": [
      "[sudo] password for paul: \n",
      "sudo: timed out reading password\n",
      "sudo: a password is required\n"
     ]
    }
   ],
   "source": [
    "! sudo ../copy.sh"
   ]
  },
  {
   "cell_type": "code",
   "execution_count": 18,
   "id": "150e6c5b-9a70-4222-9f45-a8352dc8cae7",
   "metadata": {},
   "outputs": [
    {
     "data": {
      "text/plain": [
       "['/home/paul/work/FATE_Notebooks/1.11.1',\n",
       " '/home/paul/.conda/envs/fate/lib/python38.zip',\n",
       " '/home/paul/.conda/envs/fate/lib/python3.8',\n",
       " '/home/paul/.conda/envs/fate/lib/python3.8/lib-dynload',\n",
       " '',\n",
       " '/home/paul/.conda/envs/fate/lib/python3.8/site-packages',\n",
       " '~/work/FATE/latest/FATE/',\n",
       " '~/work/FATE/latest/FATE/python',\n",
       " '/home/paul/work/FATE/latest/FATE/python']"
      ]
     },
     "execution_count": 18,
     "metadata": {},
     "output_type": "execute_result"
    }
   ],
   "source": [
    "import sys\n",
    "sys.path"
   ]
  },
  {
   "cell_type": "code",
   "execution_count": 19,
   "id": "108f4742-58d7-4ed4-97a5-1fc56376d1c2",
   "metadata": {},
   "outputs": [],
   "source": [
    "sys.path.append('/home/paul/work/FATE/latest/fate/python')"
   ]
  },
  {
   "cell_type": "code",
   "execution_count": 20,
   "id": "4b96f4e5-a45e-44c7-8141-4b0cae3c50ea",
   "metadata": {},
   "outputs": [
    {
     "name": "stdout",
     "output_type": "stream",
     "text": [
      "Pipeline configuration succeeded.\n"
     ]
    }
   ],
   "source": [
    "!pipeline init --ip 127.0.0.1 --port 9380"
   ]
  },
  {
   "cell_type": "code",
   "execution_count": 21,
   "id": "a2f1a13f",
   "metadata": {},
   "outputs": [],
   "source": [
    "from pipeline.component.nn import save_to_fate"
   ]
  },
  {
   "cell_type": "code",
   "execution_count": 22,
   "id": "8b1a1061",
   "metadata": {},
   "outputs": [],
   "source": [
    "%%save_to_fate model image_net.py\n",
    "import torch as t\n",
    "from torch import nn\n",
    "from torch.nn import Module\n",
    "\n",
    "# the residual component\n",
    "class Residual(Module):\n",
    "\n",
    "    def __init__(self, ch, kernel_size=3, padding=1):\n",
    "        super(Residual, self).__init__()\n",
    "        self.convs = t.nn.ModuleList([nn.Conv2d(ch, ch, kernel_size=kernel_size, padding=padding) for i in range(2)])\n",
    "        self.act = nn.ReLU()\n",
    "\n",
    "    def forward(self, x):\n",
    "        x = self.act(self.convs[0](x))\n",
    "        x_ = self.convs[1](x)\n",
    "        return self.act(x + x_)\n",
    "\n",
    "\n",
    "# we call it image net\n",
    "class ImgNet(nn.Module):\n",
    "    def __init__(self, class_num=10):\n",
    "        super(ImgNet, self).__init__()\n",
    "        self.seq = t.nn.Sequential(\n",
    "            nn.Conv2d(in_channels=3, out_channels=12, kernel_size=5),\n",
    "            Residual(12),\n",
    "            nn.MaxPool2d(kernel_size=3),\n",
    "            nn.Conv2d(in_channels=12, out_channels=12, kernel_size=3),\n",
    "            Residual(12),\n",
    "            nn.AvgPool2d(kernel_size=3)\n",
    "        )\n",
    "        \n",
    "        self.fc = t.nn.Sequential(\n",
    "            nn.Linear(48, 32),\n",
    "            nn.ReLU(),\n",
    "            nn.Linear(32, class_num)\n",
    "        )\n",
    "        self.softmax = nn.Softmax(dim=1)\n",
    "\n",
    "    def forward(self, x):\n",
    "        x = self.seq(x)\n",
    "        x = x.flatten(start_dim=1)\n",
    "        x = self.fc(x)\n",
    "        if self.training:\n",
    "            return x\n",
    "        else:\n",
    "            return self.softmax(x)"
   ]
  },
  {
   "cell_type": "code",
   "execution_count": 23,
   "id": "081c727b",
   "metadata": {},
   "outputs": [
    {
     "data": {
      "text/plain": [
       "ImgNet(\n",
       "  (seq): Sequential(\n",
       "    (0): Conv2d(3, 12, kernel_size=(5, 5), stride=(1, 1))\n",
       "    (1): Residual(\n",
       "      (convs): ModuleList(\n",
       "        (0): Conv2d(12, 12, kernel_size=(3, 3), stride=(1, 1), padding=(1, 1))\n",
       "        (1): Conv2d(12, 12, kernel_size=(3, 3), stride=(1, 1), padding=(1, 1))\n",
       "      )\n",
       "      (act): ReLU()\n",
       "    )\n",
       "    (2): MaxPool2d(kernel_size=3, stride=3, padding=0, dilation=1, ceil_mode=False)\n",
       "    (3): Conv2d(12, 12, kernel_size=(3, 3), stride=(1, 1))\n",
       "    (4): Residual(\n",
       "      (convs): ModuleList(\n",
       "        (0): Conv2d(12, 12, kernel_size=(3, 3), stride=(1, 1), padding=(1, 1))\n",
       "        (1): Conv2d(12, 12, kernel_size=(3, 3), stride=(1, 1), padding=(1, 1))\n",
       "      )\n",
       "      (act): ReLU()\n",
       "    )\n",
       "    (5): AvgPool2d(kernel_size=3, stride=3, padding=0)\n",
       "  )\n",
       "  (fc): Sequential(\n",
       "    (0): Linear(in_features=48, out_features=32, bias=True)\n",
       "    (1): ReLU()\n",
       "    (2): Linear(in_features=32, out_features=10, bias=True)\n",
       "  )\n",
       "  (softmax): Softmax(dim=1)\n",
       ")"
      ]
     },
     "execution_count": 23,
     "metadata": {},
     "output_type": "execute_result"
    }
   ],
   "source": [
    "img_model = ImgNet(10)\n",
    "img_model"
   ]
  },
  {
   "cell_type": "code",
   "execution_count": 30,
   "id": "dd36497e",
   "metadata": {},
   "outputs": [],
   "source": [
    "from federatedml.nn.dataset.image import ImageDataset\n",
    "\n",
    "ds = ImageDataset()\n",
    "ds.load('../data/mnist_train/')"
   ]
  },
  {
   "cell_type": "code",
   "execution_count": 31,
   "id": "64b748a3",
   "metadata": {},
   "outputs": [
    {
     "ename": "NameError",
     "evalue": "name 'i' is not defined",
     "output_type": "error",
     "traceback": [
      "\u001b[0;31m---------------------------------------------------------------------------\u001b[0m",
      "\u001b[0;31mNameError\u001b[0m                                 Traceback (most recent call last)",
      "Cell \u001b[0;32mIn[31], line 1\u001b[0m\n\u001b[0;32m----> 1\u001b[0m img_model(\u001b[43mi\u001b[49m[\u001b[38;5;241m0\u001b[39m])\n",
      "\u001b[0;31mNameError\u001b[0m: name 'i' is not defined"
     ]
    }
   ],
   "source": [
    "img_model(i[0])"
   ]
  },
  {
   "cell_type": "markdown",
   "id": "0311ed01",
   "metadata": {},
   "source": [
    "## run a local test\n",
    "\n",
    "We can use our dataset, custom model, and Trainer for local debugging to test whether the program can run through.\n",
    "**In the case of local testing, all federation processes will be skipped, and the model will not perform fed averaging**"
   ]
  },
  {
   "cell_type": "code",
   "execution_count": 44,
   "id": "c53366f3",
   "metadata": {},
   "outputs": [
    {
     "name": "stderr",
     "output_type": "stream",
     "text": [
      "ipcl_python failed to import\n"
     ]
    }
   ],
   "source": [
    "import torch as t\n",
    "from federatedml.nn.homo.trainer.fedavg_trainer import FedAVGTrainer\n",
    "trainer = FedAVGTrainer(epochs=3, batch_size=256, shuffle=True, data_loader_worker=8, pin_memory=False) \n",
    "trainer.set_model(img_model) # set model"
   ]
  },
  {
   "cell_type": "code",
   "execution_count": 45,
   "id": "711ef7fa",
   "metadata": {},
   "outputs": [],
   "source": [
    "trainer.local_mode() # !! use local mode to skip federation process !!"
   ]
  },
  {
   "cell_type": "code",
   "execution_count": 46,
   "id": "0d65f9b8",
   "metadata": {},
   "outputs": [
    {
     "name": "stderr",
     "output_type": "stream",
     "text": [
      "epoch is 0\n",
      "100%|███████████████████████| 1/1 [00:00<00:00,  5.67it/s]\n",
      "epoch loss is 2.3498029708862305\n",
      "epoch is 1\n",
      "100%|███████████████████████| 1/1 [00:00<00:00,  6.87it/s]\n",
      "epoch loss is 2.2081899642944336\n",
      "epoch is 2\n",
      "100%|███████████████████████| 1/1 [00:00<00:00,  6.38it/s]\n",
      "epoch loss is 1.309256911277771\n"
     ]
    }
   ],
   "source": [
    "optimizer = t.optim.Adam(img_model.parameters(), lr=0.01)\n",
    "loss = t.nn.CrossEntropyLoss()\n",
    "trainer.train(train_set=ds, optimizer=optimizer, loss=loss)"
   ]
  },
  {
   "cell_type": "markdown",
   "id": "e08ed729",
   "metadata": {},
   "source": [
    "It works! Now we can submit a federated task."
   ]
  },
  {
   "cell_type": "markdown",
   "id": "413aefa9",
   "metadata": {},
   "source": [
    "## Submit a Homo-NN Task with Custom Model"
   ]
  },
  {
   "cell_type": "code",
   "execution_count": 47,
   "id": "1518af62",
   "metadata": {},
   "outputs": [],
   "source": [
    "import torch as t\n",
    "from torch import nn\n",
    "from pipeline import fate_torch_hook\n",
    "from pipeline.component import HomoNN\n",
    "from pipeline.backend.pipeline import PipeLine\n",
    "from pipeline.component import Reader, Evaluation, DataTransform\n",
    "from pipeline.interface import Data, Model\n",
    "\n",
    "t = fate_torch_hook(t)"
   ]
  },
  {
   "cell_type": "code",
   "execution_count": 48,
   "id": "d900c35a",
   "metadata": {},
   "outputs": [
    {
     "data": {
      "text/plain": [
       "{'namespace': 'experiment', 'table_name': 'mnist_host'}"
      ]
     },
     "execution_count": 48,
     "metadata": {},
     "output_type": "execute_result"
    }
   ],
   "source": [
    "import os\n",
    "# bind data path to name & namespace\n",
    "fate_project_path = os.path.abspath('../../../../')\n",
    "host = 10000\n",
    "guest = 9999\n",
    "arbiter = 10000\n",
    "pipeline = PipeLine().set_initiator(role='guest', party_id=guest).set_roles(guest=guest, host=host,\n",
    "                                                                            arbiter=arbiter)\n",
    "\n",
    "data_0 = {\"name\": \"mnist_guest\", \"namespace\": \"experiment\"}\n",
    "data_1 = {\"name\": \"mnist_host\", \"namespace\": \"experiment\"}\n",
    "\n",
    "data_path_0 = fate_project_path + '/examples/data/mnist'\n",
    "data_path_1 = fate_project_path + '/examples/data/mnist'\n",
    "pipeline.bind_table(name=data_0['name'], namespace=data_0['namespace'], path=data_path_0)\n",
    "pipeline.bind_table(name=data_1['name'], namespace=data_1['namespace'], path=data_path_1)"
   ]
  },
  {
   "cell_type": "code",
   "execution_count": 49,
   "id": "d3af79ff",
   "metadata": {},
   "outputs": [],
   "source": [
    "# 定义reader\n",
    "reader_0 = Reader(name=\"reader_0\")\n",
    "reader_0.get_party_instance(role='guest', party_id=guest).component_param(table=data_0)\n",
    "reader_0.get_party_instance(role='host', party_id=host).component_param(table=data_1)"
   ]
  },
  {
   "cell_type": "markdown",
   "id": "73f39b69",
   "metadata": {},
   "source": [
    "### nn.CustModel\n",
    "\n",
    "After fate_torch_hook, we can use t.nn.CustModel to specify models. You should specify module name and class name here. Model initialization parameters can also be set here. **The initialization parameter must be JSON-serializable, otherwise, this pipeline can not be submitted.**"
   ]
  },
  {
   "cell_type": "code",
   "execution_count": 50,
   "id": "de9917a7",
   "metadata": {},
   "outputs": [],
   "source": [
    "from pipeline.component.homo_nn import DatasetParam, TrainerParam\n",
    "\n",
    "model = t.nn.Sequential(\n",
    "    # the class_num=10 is the initialzation parameter for your model\n",
    "    t.nn.CustModel(module_name='image_net', class_name='ImgNet', class_num=10) \n",
    ")\n",
    "\n",
    "nn_component = HomoNN(name='nn_0',\n",
    "                      model=model, # your cust model\n",
    "                      loss=t.nn.CrossEntropyLoss(),\n",
    "                      optimizer=t.optim.Adam(model.parameters(), lr=0.01),\n",
    "                      dataset=DatasetParam(dataset_name='image'),  # use image dataset\n",
    "                      trainer=TrainerParam(trainer_name='fedavg_trainer', epochs=3, batch_size=1024, validation_freqs=1),\n",
    "                      torch_seed=100 # global random seed\n",
    "                      )"
   ]
  },
  {
   "cell_type": "code",
   "execution_count": 51,
   "id": "62361f34",
   "metadata": {},
   "outputs": [
    {
     "data": {
      "text/plain": [
       "<pipeline.backend.pipeline.PipeLine at 0x7fb63bc81880>"
      ]
     },
     "execution_count": 51,
     "metadata": {},
     "output_type": "execute_result"
    }
   ],
   "source": [
    "pipeline.add_component(reader_0)\n",
    "pipeline.add_component(nn_component, data=Data(train_data=reader_0.output.data))\n",
    "pipeline.add_component(Evaluation(name='eval_0', eval_type='multi'), data=Data(data=nn_component.output.data))"
   ]
  },
  {
   "cell_type": "code",
   "execution_count": 52,
   "id": "1fa46219",
   "metadata": {},
   "outputs": [
    {
     "name": "stderr",
     "output_type": "stream",
     "text": [
      "\u001b[32m2023-05-30 15:08:13.437\u001b[0m | \u001b[1mINFO    \u001b[0m | \u001b[36mpipeline.utils.invoker.job_submitter\u001b[0m:\u001b[36mmonitor_job_status\u001b[0m:\u001b[36m83\u001b[0m - \u001b[1mJob id is 202305302008129040910\n",
      "\u001b[0m\n",
      "\u001b[32m2023-05-30 15:08:13.443\u001b[0m | \u001b[1mINFO    \u001b[0m | \u001b[36mpipeline.utils.invoker.job_submitter\u001b[0m:\u001b[36mmonitor_job_status\u001b[0m:\u001b[36m98\u001b[0m - \u001b[1m\u001b[80D\u001b[1A\u001b[KJob is still waiting, time elapse: 0:00:00\u001b[0m\n",
      "\u001b[32m2023-05-30 15:08:14.467\u001b[0m | \u001b[1mINFO    \u001b[0m | \u001b[36mpipeline.utils.invoker.job_submitter\u001b[0m:\u001b[36mmonitor_job_status\u001b[0m:\u001b[36m98\u001b[0m - \u001b[1m\u001b[80D\u001b[1A\u001b[KJob is still waiting, time elapse: 0:00:01\u001b[0m\n",
      "\u001b[0mm2023-05-30 15:08:15.482\u001b[0m | \u001b[1mINFO    \u001b[0m | \u001b[36mpipeline.utils.invoker.job_submitter\u001b[0m:\u001b[36mmonitor_job_status\u001b[0m:\u001b[36m125\u001b[0m - \u001b[1m\n",
      "\u001b[32m2023-05-30 15:08:15.483\u001b[0m | \u001b[1mINFO    \u001b[0m | \u001b[36mpipeline.utils.invoker.job_submitter\u001b[0m:\u001b[36mmonitor_job_status\u001b[0m:\u001b[36m127\u001b[0m - \u001b[1m\u001b[80D\u001b[1A\u001b[KRunning component reader_0, time elapse: 0:00:02\u001b[0m\n",
      "\u001b[32m2023-05-30 15:08:16.495\u001b[0m | \u001b[1mINFO    \u001b[0m | \u001b[36mpipeline.utils.invoker.job_submitter\u001b[0m:\u001b[36mmonitor_job_status\u001b[0m:\u001b[36m127\u001b[0m - \u001b[1m\u001b[80D\u001b[1A\u001b[KRunning component reader_0, time elapse: 0:00:03\u001b[0m\n",
      "\u001b[32m2023-05-30 15:08:17.535\u001b[0m | \u001b[1mINFO    \u001b[0m | \u001b[36mpipeline.utils.invoker.job_submitter\u001b[0m:\u001b[36mmonitor_job_status\u001b[0m:\u001b[36m127\u001b[0m - \u001b[1m\u001b[80D\u001b[1A\u001b[KRunning component reader_0, time elapse: 0:00:04\u001b[0m\n",
      "\u001b[32m2023-05-30 15:08:18.562\u001b[0m | \u001b[1mINFO    \u001b[0m | \u001b[36mpipeline.utils.invoker.job_submitter\u001b[0m:\u001b[36mmonitor_job_status\u001b[0m:\u001b[36m127\u001b[0m - \u001b[1m\u001b[80D\u001b[1A\u001b[KRunning component reader_0, time elapse: 0:00:05\u001b[0m\n",
      "\u001b[0mm2023-05-30 15:08:19.583\u001b[0m | \u001b[1mINFO    \u001b[0m | \u001b[36mpipeline.utils.invoker.job_submitter\u001b[0m:\u001b[36mmonitor_job_status\u001b[0m:\u001b[36m125\u001b[0m - \u001b[1m\n",
      "\u001b[32m2023-05-30 15:08:19.585\u001b[0m | \u001b[1mINFO    \u001b[0m | \u001b[36mpipeline.utils.invoker.job_submitter\u001b[0m:\u001b[36mmonitor_job_status\u001b[0m:\u001b[36m127\u001b[0m - \u001b[1m\u001b[80D\u001b[1A\u001b[KRunning component nn_0, time elapse: 0:00:06\u001b[0m\n",
      "\u001b[32m2023-05-30 15:08:20.623\u001b[0m | \u001b[1mINFO    \u001b[0m | \u001b[36mpipeline.utils.invoker.job_submitter\u001b[0m:\u001b[36mmonitor_job_status\u001b[0m:\u001b[36m127\u001b[0m - \u001b[1m\u001b[80D\u001b[1A\u001b[KRunning component nn_0, time elapse: 0:00:07\u001b[0m\n",
      "\u001b[32m2023-05-30 15:08:21.637\u001b[0m | \u001b[1mINFO    \u001b[0m | \u001b[36mpipeline.utils.invoker.job_submitter\u001b[0m:\u001b[36mmonitor_job_status\u001b[0m:\u001b[36m127\u001b[0m - \u001b[1m\u001b[80D\u001b[1A\u001b[KRunning component nn_0, time elapse: 0:00:08\u001b[0m\n",
      "\u001b[32m2023-05-30 15:08:22.653\u001b[0m | \u001b[1mINFO    \u001b[0m | \u001b[36mpipeline.utils.invoker.job_submitter\u001b[0m:\u001b[36mmonitor_job_status\u001b[0m:\u001b[36m127\u001b[0m - \u001b[1m\u001b[80D\u001b[1A\u001b[KRunning component nn_0, time elapse: 0:00:09\u001b[0m\n",
      "\u001b[32m2023-05-30 15:08:23.668\u001b[0m | \u001b[1mINFO    \u001b[0m | \u001b[36mpipeline.utils.invoker.job_submitter\u001b[0m:\u001b[36mmonitor_job_status\u001b[0m:\u001b[36m127\u001b[0m - \u001b[1m\u001b[80D\u001b[1A\u001b[KRunning component nn_0, time elapse: 0:00:10\u001b[0m\n",
      "\u001b[32m2023-05-30 15:08:24.690\u001b[0m | \u001b[1mINFO    \u001b[0m | \u001b[36mpipeline.utils.invoker.job_submitter\u001b[0m:\u001b[36mmonitor_job_status\u001b[0m:\u001b[36m127\u001b[0m - \u001b[1m\u001b[80D\u001b[1A\u001b[KRunning component nn_0, time elapse: 0:00:11\u001b[0m\n",
      "\u001b[32m2023-05-30 15:08:25.732\u001b[0m | \u001b[1mINFO    \u001b[0m | \u001b[36mpipeline.utils.invoker.job_submitter\u001b[0m:\u001b[36mmonitor_job_status\u001b[0m:\u001b[36m127\u001b[0m - \u001b[1m\u001b[80D\u001b[1A\u001b[KRunning component nn_0, time elapse: 0:00:12\u001b[0m\n",
      "\u001b[32m2023-05-30 15:08:26.746\u001b[0m | \u001b[31m\u001b[1mERROR   \u001b[0m | \u001b[36m__main__\u001b[0m:\u001b[36m<module>\u001b[0m:\u001b[36m2\u001b[0m - \u001b[31m\u001b[1mAn error has been caught in function '<module>', process 'MainProcess' (4714), thread 'MainThread' (140423764411008):\u001b[0m\n",
      "\u001b[33m\u001b[1mTraceback (most recent call last):\u001b[0m\n",
      "\n",
      "  File \"/home/paul/.conda/envs/fate/lib/python3.8/runpy.py\", line 194, in _run_module_as_main\n",
      "    return _run_code(code, main_globals, None,\n",
      "           │         │     └ {'__name__': '__main__', '__doc__': 'Entry point for launching an IPython kernel.\\n\\nThis is separate from the ipykernel pack...\n",
      "           │         └ <code object <module> at 0x7fb6f4432a80, file \"/home/paul/.conda/envs/fate/lib/python3.8/site-packages/ipykernel_launcher.py\"...\n",
      "           └ <function _run_code at 0x7fb6f4443160>\n",
      "  File \"/home/paul/.conda/envs/fate/lib/python3.8/runpy.py\", line 87, in _run_code\n",
      "    exec(code, run_globals)\n",
      "         │     └ {'__name__': '__main__', '__doc__': 'Entry point for launching an IPython kernel.\\n\\nThis is separate from the ipykernel pack...\n",
      "         └ <code object <module> at 0x7fb6f4432a80, file \"/home/paul/.conda/envs/fate/lib/python3.8/site-packages/ipykernel_launcher.py\"...\n",
      "  File \"/home/paul/.conda/envs/fate/lib/python3.8/site-packages/ipykernel_launcher.py\", line 17, in <module>\n",
      "    app.launch_new_instance()\n",
      "    │   └ <bound method Application.launch_instance of <class 'ipykernel.kernelapp.IPKernelApp'>>\n",
      "    └ <module 'ipykernel.kernelapp' from '/home/paul/.conda/envs/fate/lib/python3.8/site-packages/ipykernel/kernelapp.py'>\n",
      "  File \"/home/paul/.conda/envs/fate/lib/python3.8/site-packages/traitlets/config/application.py\", line 992, in launch_instance\n",
      "    app.start()\n",
      "    │   └ <function IPKernelApp.start at 0x7fb6f17784c0>\n",
      "    └ <ipykernel.kernelapp.IPKernelApp object at 0x7fb6f4555460>\n",
      "  File \"/home/paul/.conda/envs/fate/lib/python3.8/site-packages/ipykernel/kernelapp.py\", line 711, in start\n",
      "    self.io_loop.start()\n",
      "    │    │       └ <function BaseAsyncIOLoop.start at 0x7fb6f173b160>\n",
      "    │    └ <tornado.platform.asyncio.AsyncIOMainLoop object at 0x7fb6f1724e20>\n",
      "    └ <ipykernel.kernelapp.IPKernelApp object at 0x7fb6f4555460>\n",
      "  File \"/home/paul/.conda/envs/fate/lib/python3.8/site-packages/tornado/platform/asyncio.py\", line 215, in start\n",
      "    self.asyncio_loop.run_forever()\n",
      "    │    │            └ <function BaseEventLoop.run_forever at 0x7fb6f3b33c10>\n",
      "    │    └ <_UnixSelectorEventLoop running=True closed=False debug=False>\n",
      "    └ <tornado.platform.asyncio.AsyncIOMainLoop object at 0x7fb6f1724e20>\n",
      "  File \"/home/paul/.conda/envs/fate/lib/python3.8/asyncio/base_events.py\", line 570, in run_forever\n",
      "    self._run_once()\n",
      "    │    └ <function BaseEventLoop._run_once at 0x7fb6f3b36790>\n",
      "    └ <_UnixSelectorEventLoop running=True closed=False debug=False>\n",
      "  File \"/home/paul/.conda/envs/fate/lib/python3.8/asyncio/base_events.py\", line 1859, in _run_once\n",
      "    handle._run()\n",
      "    │      └ <function Handle._run at 0x7fb6f3b67f70>\n",
      "    └ <Handle <TaskWakeupMethWrapper object at 0x7fb62de56040>(<Future finis...bf0>, ...],))>)>\n",
      "  File \"/home/paul/.conda/envs/fate/lib/python3.8/asyncio/events.py\", line 81, in _run\n",
      "    self._context.run(self._callback, *self._args)\n",
      "    │    │            │    │           │    └ <member '_args' of 'Handle' objects>\n",
      "    │    │            │    │           └ <Handle <TaskWakeupMethWrapper object at 0x7fb62de56040>(<Future finis...bf0>, ...],))>)>\n",
      "    │    │            │    └ <member '_callback' of 'Handle' objects>\n",
      "    │    │            └ <Handle <TaskWakeupMethWrapper object at 0x7fb62de56040>(<Future finis...bf0>, ...],))>)>\n",
      "    │    └ <member '_context' of 'Handle' objects>\n",
      "    └ <Handle <TaskWakeupMethWrapper object at 0x7fb62de56040>(<Future finis...bf0>, ...],))>)>\n",
      "  File \"/home/paul/.conda/envs/fate/lib/python3.8/site-packages/ipykernel/kernelbase.py\", line 510, in dispatch_queue\n",
      "    await self.process_one()\n",
      "          │    └ <function Kernel.process_one at 0x7fb6f1fcf430>\n",
      "          └ <ipykernel.ipkernel.IPythonKernel object at 0x7fb6f06c5d30>\n",
      "  File \"/home/paul/.conda/envs/fate/lib/python3.8/site-packages/ipykernel/kernelbase.py\", line 499, in process_one\n",
      "    await dispatch(*args)\n",
      "          │         └ ([<zmq.sugar.frame.Frame object at 0x7fb64bbb2d50>, <zmq.sugar.frame.Frame object at 0x7fb64bbb2e00>, <zmq.sugar.frame.Frame ...\n",
      "          └ <bound method Kernel.dispatch_shell of <ipykernel.ipkernel.IPythonKernel object at 0x7fb6f06c5d30>>\n",
      "  File \"/home/paul/.conda/envs/fate/lib/python3.8/site-packages/ipykernel/kernelbase.py\", line 406, in dispatch_shell\n",
      "    await result\n",
      "          └ <coroutine object Kernel.execute_request at 0x7fb62f3ab840>\n",
      "  File \"/home/paul/.conda/envs/fate/lib/python3.8/site-packages/ipykernel/kernelbase.py\", line 729, in execute_request\n",
      "    reply_content = await reply_content\n",
      "                          └ <coroutine object IPythonKernel.do_execute at 0x7fb60c6dfac0>\n",
      "  File \"/home/paul/.conda/envs/fate/lib/python3.8/site-packages/ipykernel/ipkernel.py\", line 411, in do_execute\n",
      "    res = shell.run_cell(\n",
      "          │     └ <function ZMQInteractiveShell.run_cell at 0x7fb6f1763c10>\n",
      "          └ <ipykernel.zmqshell.ZMQInteractiveShell object at 0x7fb6f06d02e0>\n",
      "  File \"/home/paul/.conda/envs/fate/lib/python3.8/site-packages/ipykernel/zmqshell.py\", line 531, in run_cell\n",
      "    return super().run_cell(*args, **kwargs)\n",
      "                             │       └ {'store_history': True, 'silent': False, 'cell_id': '1fa46219'}\n",
      "                             └ ('pipeline.compile()\\npipeline.fit()',)\n",
      "  File \"/home/paul/.conda/envs/fate/lib/python3.8/site-packages/IPython/core/interactiveshell.py\", line 3006, in run_cell\n",
      "    result = self._run_cell(\n",
      "             │    └ <function InteractiveShell._run_cell at 0x7fb6f2a1ddc0>\n",
      "             └ <ipykernel.zmqshell.ZMQInteractiveShell object at 0x7fb6f06d02e0>\n",
      "  File \"/home/paul/.conda/envs/fate/lib/python3.8/site-packages/IPython/core/interactiveshell.py\", line 3061, in _run_cell\n",
      "    result = runner(coro)\n",
      "             │      └ <coroutine object InteractiveShell.run_cell_async at 0x7fb63e9b6ac0>\n",
      "             └ <function _pseudo_sync_runner at 0x7fb6f2bf6670>\n",
      "  File \"/home/paul/.conda/envs/fate/lib/python3.8/site-packages/IPython/core/async_helpers.py\", line 129, in _pseudo_sync_runner\n",
      "    coro.send(None)\n",
      "    │    └ <method 'send' of 'coroutine' objects>\n",
      "    └ <coroutine object InteractiveShell.run_cell_async at 0x7fb63e9b6ac0>\n",
      "  File \"/home/paul/.conda/envs/fate/lib/python3.8/site-packages/IPython/core/interactiveshell.py\", line 3266, in run_cell_async\n",
      "    has_raised = await self.run_ast_nodes(code_ast.body, cell_name,\n",
      "                       │    │             │        │     └ '/tmp/ipykernel_4714/1794012799.py'\n",
      "                       │    │             │        └ [<_ast.Expr object at 0x7fb60c71a310>, <_ast.Expr object at 0x7fb60c71a220>]\n",
      "                       │    │             └ <_ast.Module object at 0x7fb60c71aee0>\n",
      "                       │    └ <function InteractiveShell.run_ast_nodes at 0x7fb6f2a1f0d0>\n",
      "                       └ <ipykernel.zmqshell.ZMQInteractiveShell object at 0x7fb6f06d02e0>\n",
      "  File \"/home/paul/.conda/envs/fate/lib/python3.8/site-packages/IPython/core/interactiveshell.py\", line 3445, in run_ast_nodes\n",
      "    if await self.run_code(code, result, async_=asy):\n",
      "             │    │        │     │              └ False\n",
      "             │    │        │     └ <ExecutionResult object at 7fb60c71a0d0, execution_count=52 error_before_exec=None error_in_exec=None info=<ExecutionInfo obj...\n",
      "             │    │        └ <code object <module> at 0x7fb63bc399d0, file \"/tmp/ipykernel_4714/1794012799.py\", line 2>\n",
      "             │    └ <function InteractiveShell.run_code at 0x7fb6f2a1f160>\n",
      "             └ <ipykernel.zmqshell.ZMQInteractiveShell object at 0x7fb6f06d02e0>\n",
      "  File \"/home/paul/.conda/envs/fate/lib/python3.8/site-packages/IPython/core/interactiveshell.py\", line 3505, in run_code\n",
      "    exec(code_obj, self.user_global_ns, self.user_ns)\n",
      "         │         │    │               │    └ {'__name__': '__main__', '__doc__': 'Automatically created module for IPython interactive environment', '__package__': None, ...\n",
      "         │         │    │               └ <ipykernel.zmqshell.ZMQInteractiveShell object at 0x7fb6f06d02e0>\n",
      "         │         │    └ <property object at 0x7fb6f2bfc4a0>\n",
      "         │         └ <ipykernel.zmqshell.ZMQInteractiveShell object at 0x7fb6f06d02e0>\n",
      "         └ <code object <module> at 0x7fb63bc399d0, file \"/tmp/ipykernel_4714/1794012799.py\", line 2>\n",
      "\n",
      "> File \"\u001b[32m/tmp/ipykernel_4714/\u001b[0m\u001b[32m\u001b[1m1794012799.py\u001b[0m\", line \u001b[33m2\u001b[0m, in \u001b[35m<module>\u001b[0m\n",
      "    \u001b[1mpipeline\u001b[0m\u001b[35m\u001b[1m.\u001b[0m\u001b[1mfit\u001b[0m\u001b[1m(\u001b[0m\u001b[1m)\u001b[0m\n",
      "    \u001b[36m│        └ \u001b[0m\u001b[36m\u001b[1m<function PipeLine.fit at 0x7fb63bc710d0>\u001b[0m\n",
      "    \u001b[36m└ \u001b[0m\u001b[36m\u001b[1m<pipeline.backend.pipeline.PipeLine object at 0x7fb63bc81880>\u001b[0m\n",
      "\n",
      "  File \"/home/paul/.conda/envs/fate/lib/python3.8/site-packages/pipeline/backend/pipeline.py\", line 585, in fit\n",
      "    self._fit_status = self._job_invoker.monitor_job_status(self._train_job_id,\n",
      "    │    │             │    │            │                  │    └ '202305302008129040910'\n",
      "    │    │             │    │            │                  └ <pipeline.backend.pipeline.PipeLine object at 0x7fb63bc81880>\n",
      "    │    │             │    │            └ <function JobInvoker.monitor_job_status at 0x7fb63bc67310>\n",
      "    │    │             │    └ <pipeline.utils.invoker.job_submitter.JobInvoker object at 0x7fb63bc81820>\n",
      "    │    │             └ <pipeline.backend.pipeline.PipeLine object at 0x7fb63bc81880>\n",
      "    │    └ None\n",
      "    └ <pipeline.backend.pipeline.PipeLine object at 0x7fb63bc81880>\n",
      "  File \"/home/paul/.conda/envs/fate/lib/python3.8/site-packages/pipeline/utils/invoker/job_submitter.py\", line 94, in monitor_job_status\n",
      "    raise ValueError(f\"Job is failed, please check out job {job_id} by fate board or fate_flow cli\")\n",
      "\n",
      "\u001b[31m\u001b[1mValueError\u001b[0m:\u001b[1m Job is failed, please check out job 202305302008129040910 by fate board or fate_flow cli\u001b[0m\n"
     ]
    },
    {
     "ename": "ValueError",
     "evalue": "Job is failed, please check out job 202305302008129040910 by fate board or fate_flow cli",
     "output_type": "error",
     "traceback": [
      "\u001b[0;31m---------------------------------------------------------------------------\u001b[0m",
      "\u001b[0;31mValueError\u001b[0m                                Traceback (most recent call last)",
      "Cell \u001b[0;32mIn[52], line 2\u001b[0m\n\u001b[1;32m      1\u001b[0m pipeline\u001b[38;5;241m.\u001b[39mcompile()\n\u001b[0;32m----> 2\u001b[0m \u001b[43mpipeline\u001b[49m\u001b[38;5;241;43m.\u001b[39;49m\u001b[43mfit\u001b[49m\u001b[43m(\u001b[49m\u001b[43m)\u001b[49m\n",
      "File \u001b[0;32m~/.conda/envs/fate/lib/python3.8/site-packages/loguru/_logger.py:1251\u001b[0m, in \u001b[0;36mLogger.catch.<locals>.Catcher.__call__.<locals>.catch_wrapper\u001b[0;34m(*args, **kwargs)\u001b[0m\n\u001b[1;32m   1249\u001b[0m \u001b[38;5;28;01mdef\u001b[39;00m \u001b[38;5;21mcatch_wrapper\u001b[39m(\u001b[38;5;241m*\u001b[39margs, \u001b[38;5;241m*\u001b[39m\u001b[38;5;241m*\u001b[39mkwargs):\n\u001b[1;32m   1250\u001b[0m     \u001b[38;5;28;01mwith\u001b[39;00m catcher:\n\u001b[0;32m-> 1251\u001b[0m         \u001b[38;5;28;01mreturn\u001b[39;00m \u001b[43mfunction\u001b[49m\u001b[43m(\u001b[49m\u001b[38;5;241;43m*\u001b[39;49m\u001b[43margs\u001b[49m\u001b[43m,\u001b[49m\u001b[43m \u001b[49m\u001b[38;5;241;43m*\u001b[39;49m\u001b[38;5;241;43m*\u001b[39;49m\u001b[43mkwargs\u001b[49m\u001b[43m)\u001b[49m\n\u001b[1;32m   1252\u001b[0m     \u001b[38;5;28;01mreturn\u001b[39;00m default\n",
      "File \u001b[0;32m~/.conda/envs/fate/lib/python3.8/site-packages/pipeline/backend/pipeline.py:585\u001b[0m, in \u001b[0;36mPipeLine.fit\u001b[0;34m(self, job_parameters, callback_func)\u001b[0m\n\u001b[1;32m    581\u001b[0m \u001b[38;5;28mself\u001b[39m\u001b[38;5;241m.\u001b[39m_train_board_url \u001b[38;5;241m=\u001b[39m detail_info[\u001b[38;5;124m\"\u001b[39m\u001b[38;5;124mboard_url\u001b[39m\u001b[38;5;124m\"\u001b[39m]\n\u001b[1;32m    582\u001b[0m \u001b[38;5;28mself\u001b[39m\u001b[38;5;241m.\u001b[39m_model_info \u001b[38;5;241m=\u001b[39m SimpleNamespace(model_id\u001b[38;5;241m=\u001b[39mdetail_info[\u001b[38;5;124m\"\u001b[39m\u001b[38;5;124mmodel_info\u001b[39m\u001b[38;5;124m\"\u001b[39m][\u001b[38;5;124m\"\u001b[39m\u001b[38;5;124mmodel_id\u001b[39m\u001b[38;5;124m\"\u001b[39m],\n\u001b[1;32m    583\u001b[0m                                    model_version\u001b[38;5;241m=\u001b[39mdetail_info[\u001b[38;5;124m\"\u001b[39m\u001b[38;5;124mmodel_info\u001b[39m\u001b[38;5;124m\"\u001b[39m][\u001b[38;5;124m\"\u001b[39m\u001b[38;5;124mmodel_version\u001b[39m\u001b[38;5;124m\"\u001b[39m])\n\u001b[0;32m--> 585\u001b[0m \u001b[38;5;28mself\u001b[39m\u001b[38;5;241m.\u001b[39m_fit_status \u001b[38;5;241m=\u001b[39m \u001b[38;5;28;43mself\u001b[39;49m\u001b[38;5;241;43m.\u001b[39;49m\u001b[43m_job_invoker\u001b[49m\u001b[38;5;241;43m.\u001b[39;49m\u001b[43mmonitor_job_status\u001b[49m\u001b[43m(\u001b[49m\u001b[38;5;28;43mself\u001b[39;49m\u001b[38;5;241;43m.\u001b[39;49m\u001b[43m_train_job_id\u001b[49m\u001b[43m,\u001b[49m\n\u001b[1;32m    586\u001b[0m \u001b[43m                                                        \u001b[49m\u001b[38;5;28;43mself\u001b[39;49m\u001b[38;5;241;43m.\u001b[39;49m\u001b[43m_initiator\u001b[49m\u001b[38;5;241;43m.\u001b[39;49m\u001b[43mrole\u001b[49m\u001b[43m,\u001b[49m\n\u001b[1;32m    587\u001b[0m \u001b[43m                                                        \u001b[49m\u001b[38;5;28;43mself\u001b[39;49m\u001b[38;5;241;43m.\u001b[39;49m\u001b[43m_initiator\u001b[49m\u001b[38;5;241;43m.\u001b[39;49m\u001b[43mparty_id\u001b[49m\u001b[43m)\u001b[49m\n",
      "File \u001b[0;32m~/.conda/envs/fate/lib/python3.8/site-packages/pipeline/utils/invoker/job_submitter.py:94\u001b[0m, in \u001b[0;36mJobInvoker.monitor_job_status\u001b[0;34m(self, job_id, role, party_id, previous_status)\u001b[0m\n\u001b[1;32m     91\u001b[0m     \u001b[38;5;28;01mreturn\u001b[39;00m StatusCode\u001b[38;5;241m.\u001b[39mSUCCESS\n\u001b[1;32m     93\u001b[0m \u001b[38;5;28;01melif\u001b[39;00m status \u001b[38;5;241m==\u001b[39m JobStatus\u001b[38;5;241m.\u001b[39mFAILED:\n\u001b[0;32m---> 94\u001b[0m     \u001b[38;5;28;01mraise\u001b[39;00m \u001b[38;5;167;01mValueError\u001b[39;00m(\u001b[38;5;124mf\u001b[39m\u001b[38;5;124m\"\u001b[39m\u001b[38;5;124mJob is failed, please check out job \u001b[39m\u001b[38;5;132;01m{\u001b[39;00mjob_id\u001b[38;5;132;01m}\u001b[39;00m\u001b[38;5;124m by fate board or fate_flow cli\u001b[39m\u001b[38;5;124m\"\u001b[39m)\n\u001b[1;32m     96\u001b[0m \u001b[38;5;28;01melif\u001b[39;00m status \u001b[38;5;241m==\u001b[39m JobStatus\u001b[38;5;241m.\u001b[39mWAITING:\n\u001b[1;32m     97\u001b[0m     elapse_seconds \u001b[38;5;241m=\u001b[39m timedelta(seconds\u001b[38;5;241m=\u001b[39m\u001b[38;5;28mint\u001b[39m(time\u001b[38;5;241m.\u001b[39mtime() \u001b[38;5;241m-\u001b[39m start_time))\n",
      "\u001b[0;31mValueError\u001b[0m: Job is failed, please check out job 202305302008129040910 by fate board or fate_flow cli"
     ]
    }
   ],
   "source": [
    "pipeline.compile()\n",
    "pipeline.fit()"
   ]
  },
  {
   "cell_type": "code",
   "execution_count": null,
   "id": "dfb15285-6989-4fd6-8bfe-47daf0aaf01d",
   "metadata": {},
   "outputs": [],
   "source": []
  }
 ],
 "metadata": {
  "kernelspec": {
   "display_name": "Fate Client Enviornment",
   "language": "python",
   "name": "fate"
  },
  "language_info": {
   "codemirror_mode": {
    "name": "ipython",
    "version": 3
   },
   "file_extension": ".py",
   "mimetype": "text/x-python",
   "name": "python",
   "nbconvert_exporter": "python",
   "pygments_lexer": "ipython3",
   "version": "3.8.13"
  },
  "vscode": {
   "interpreter": {
    "hash": "d29574a2ab71ec988cdcd4d29c58400bd2037cad632b9528d973466f7fb6f853"
   }
  }
 },
 "nbformat": 4,
 "nbformat_minor": 5
}

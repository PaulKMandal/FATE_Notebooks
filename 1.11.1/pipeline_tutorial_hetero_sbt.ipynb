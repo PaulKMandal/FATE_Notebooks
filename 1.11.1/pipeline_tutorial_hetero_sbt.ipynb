{
 "cells": [
  {
   "cell_type": "markdown",
   "metadata": {},
   "source": [
    "## Pipeline Tutorial with HeteroSecureBoost"
   ]
  },
  {
   "cell_type": "markdown",
   "metadata": {},
   "source": [
    "### install"
   ]
  },
  {
   "cell_type": "markdown",
   "metadata": {},
   "source": [
    "`Pipeline` is distributed along with [fate_client](https://pypi.org/project/fate-client/).\n",
    "\n",
    "```bash\n",
    "pip install fate_client\n",
    "```\n",
    "\n",
    "To use Pipeline, we need to first specify which `FATE Flow Service` to connect to. Once `fate_client` installed, one can find an cmd enterpoint name `pipeline`:"
   ]
  },
  {
   "cell_type": "code",
   "execution_count": 12,
   "metadata": {},
   "outputs": [
    {
     "name": "stdout",
     "output_type": "stream",
     "text": [
      "3.8.13 (default, Oct 21 2022, 23:50:54) \n",
      "[GCC 11.2.0]\n"
     ]
    }
   ],
   "source": [
    "import sys\n",
    "print(sys.version)"
   ]
  },
  {
   "cell_type": "code",
   "execution_count": 13,
   "metadata": {},
   "outputs": [
    {
     "name": "stdout",
     "output_type": "stream",
     "text": [
      "Python 3.8.13\n"
     ]
    }
   ],
   "source": [
    "!python --version"
   ]
  },
  {
   "cell_type": "code",
   "execution_count": 14,
   "metadata": {},
   "outputs": [
    {
     "name": "stdout",
     "output_type": "stream",
     "text": [
      "Usage: pipeline [OPTIONS] COMMAND [ARGS]...\n",
      "\n",
      "Options:\n",
      "  --help  Show this message and exit.\n",
      "\n",
      "Commands:\n",
      "  config  pipeline config tool\n",
      "  init    - DESCRIPTION: Pipeline Config Command.\n"
     ]
    }
   ],
   "source": [
    "!pipeline --help"
   ]
  },
  {
   "cell_type": "markdown",
   "metadata": {},
   "source": [
    "Assume we have a `FATE Flow Service` in 127.0.0.1:9380(defaults in standalone), then exec"
   ]
  },
  {
   "cell_type": "code",
   "execution_count": 22,
   "metadata": {},
   "outputs": [
    {
     "name": "stdout",
     "output_type": "stream",
     "text": [
      "Pipeline configuration succeeded.\n"
     ]
    }
   ],
   "source": [
    "!pipeline init --ip 0.0.0.0 --port 9380"
   ]
  },
  {
   "cell_type": "markdown",
   "metadata": {},
   "source": [
    "### Hetero SecureBoost Example"
   ]
  },
  {
   "cell_type": "markdown",
   "metadata": {},
   "source": [
    " Before start a modeling task, data to be used should be uploaded. Please refer to this [guide](https://github.com/FederatedAI/FATE/blob/master/doc/tutorial/pipeline/pipeline_tutorial_upload.ipynb)."
   ]
  },
  {
   "cell_type": "markdown",
   "metadata": {},
   "source": [
    "The `pipeline` package provides components to compose a `FATE pipeline`."
   ]
  },
  {
   "cell_type": "code",
   "execution_count": 23,
   "metadata": {},
   "outputs": [],
   "source": [
    "from pipeline.backend.pipeline import PipeLine\n",
    "from pipeline.component import Reader, DataTransform, Intersection, HeteroSecureBoost, Evaluation\n",
    "from pipeline.interface import Data"
   ]
  },
  {
   "cell_type": "markdown",
   "metadata": {},
   "source": [
    "Make a `pipeline` instance:\n",
    "\n",
    "    - initiator: \n",
    "        * role: guest\n",
    "        * party: 9999\n",
    "    - roles:\n",
    "        * guest: 9999\n",
    "        * host: 10000\n",
    "    "
   ]
  },
  {
   "cell_type": "code",
   "execution_count": 24,
   "metadata": {},
   "outputs": [],
   "source": [
    "pipeline = PipeLine() \\\n",
    "        .set_initiator(role='guest', party_id=9999) \\\n",
    "        .set_roles(guest=9999, host=10000)"
   ]
  },
  {
   "cell_type": "markdown",
   "metadata": {},
   "source": [
    "Now we need to upload our data."
   ]
  },
  {
   "cell_type": "code",
   "execution_count": 25,
   "metadata": {},
   "outputs": [],
   "source": [
    "import os\n",
    "\n",
    "data_base = os.path.join(os.getcwd(), \"../data/\")\n",
    "partition = 4\n",
    "guest = 9999\n",
    "\n",
    "dense_data = {\"name\": \"breast_hetero_guest\", \"namespace\": f\"experiment\"}\n",
    "tag_data = {\"name\": \"breast_hetero_host\", \"namespace\": f\"experiment\"}"
   ]
  },
  {
   "cell_type": "code",
   "execution_count": 26,
   "metadata": {},
   "outputs": [],
   "source": [
    "#pipeline_upload = PipeLine().set_initiator(role=\"guest\", party_id=guest).set_roles(guest=guest)\n",
    "pipeline_upload = PipeLine().set_initiator(role='guest', party_id=9999).set_roles(guest=9999)"
   ]
  },
  {
   "cell_type": "code",
   "execution_count": 27,
   "metadata": {},
   "outputs": [],
   "source": [
    "pipeline_upload.add_upload_data(file=os.path.join(data_base, \"breast_hetero_guest.csv\"),\n",
    "                                table_name=dense_data[\"name\"],             # table name\n",
    "                                namespace=dense_data[\"namespace\"],         # namespace\n",
    "                                head=1, partition=partition)               # data info\n",
    "\n",
    "\n",
    "pipeline_upload.add_upload_data(file=os.path.join(data_base, \"breast_hetero_host.csv\"),\n",
    "                                table_name=tag_data[\"name\"],\n",
    "                                namespace=tag_data[\"namespace\"],\n",
    "                                head=1, partition=partition)"
   ]
  },
  {
   "cell_type": "code",
   "execution_count": 29,
   "metadata": {},
   "outputs": [
    {
     "name": "stdout",
     "output_type": "stream",
     "text": [
      " UPLOADING:||||||||||||||||||||||||||||||||||||||||||||||||||||||||56.00%"
     ]
    },
    {
     "name": "stderr",
     "output_type": "stream",
     "text": [
      "\u001b[32m2023-05-25 15:40:19.062\u001b[0m | \u001b[31m\u001b[1mERROR   \u001b[0m | \u001b[36m__main__\u001b[0m:\u001b[36m<module>\u001b[0m:\u001b[36m1\u001b[0m - \u001b[31m\u001b[1mAn error has been caught in function '<module>', process 'MainProcess' (21311), thread 'MainThread' (140069943566976):\u001b[0m\n",
      "\u001b[33m\u001b[1mTraceback (most recent call last):\u001b[0m\n",
      "\n",
      "  File \"/home/paul/.conda/envs/fate/lib/python3.8/site-packages/pipeline/utils/invoker/job_submitter.py\", line 61, in upload_data\n",
      "    raise ValueError\n",
      "\n",
      "\u001b[31m\u001b[1mValueError\u001b[0m\n",
      "\n",
      "\n",
      "\u001b[1mDuring handling of the above exception, another exception occurred:\u001b[0m\n",
      "\n",
      "\n",
      "\u001b[33m\u001b[1mTraceback (most recent call last):\u001b[0m\n",
      "\n",
      "  File \"/home/paul/.conda/envs/fate/lib/python3.8/runpy.py\", line 194, in _run_module_as_main\n",
      "    return _run_code(code, main_globals, None,\n",
      "           │         │     └ {'__name__': '__main__', '__doc__': 'Entry point for launching an IPython kernel.\\n\\nThis is separate from the ipykernel pack...\n",
      "           │         └ <code object <module> at 0x7f6492e57a80, file \"/home/paul/.conda/envs/fate/lib/python3.8/site-packages/ipykernel_launcher.py\"...\n",
      "           └ <function _run_code at 0x7f6492e68160>\n",
      "  File \"/home/paul/.conda/envs/fate/lib/python3.8/runpy.py\", line 87, in _run_code\n",
      "    exec(code, run_globals)\n",
      "         │     └ {'__name__': '__main__', '__doc__': 'Entry point for launching an IPython kernel.\\n\\nThis is separate from the ipykernel pack...\n",
      "         └ <code object <module> at 0x7f6492e57a80, file \"/home/paul/.conda/envs/fate/lib/python3.8/site-packages/ipykernel_launcher.py\"...\n",
      "  File \"/home/paul/.conda/envs/fate/lib/python3.8/site-packages/ipykernel_launcher.py\", line 17, in <module>\n",
      "    app.launch_new_instance()\n",
      "    │   └ <bound method Application.launch_instance of <class 'ipykernel.kernelapp.IPKernelApp'>>\n",
      "    └ <module 'ipykernel.kernelapp' from '/home/paul/.conda/envs/fate/lib/python3.8/site-packages/ipykernel/kernelapp.py'>\n",
      "  File \"/home/paul/.conda/envs/fate/lib/python3.8/site-packages/traitlets/config/application.py\", line 992, in launch_instance\n",
      "    app.start()\n",
      "    │   └ <function IPKernelApp.start at 0x7f649019f4c0>\n",
      "    └ <ipykernel.kernelapp.IPKernelApp object at 0x7f6492f55460>\n",
      "  File \"/home/paul/.conda/envs/fate/lib/python3.8/site-packages/ipykernel/kernelapp.py\", line 711, in start\n",
      "    self.io_loop.start()\n",
      "    │    │       └ <function BaseAsyncIOLoop.start at 0x7f6490162160>\n",
      "    │    └ <tornado.platform.asyncio.AsyncIOMainLoop object at 0x7f649014adc0>\n",
      "    └ <ipykernel.kernelapp.IPKernelApp object at 0x7f6492f55460>\n",
      "  File \"/home/paul/.conda/envs/fate/lib/python3.8/site-packages/tornado/platform/asyncio.py\", line 215, in start\n",
      "    self.asyncio_loop.run_forever()\n",
      "    │    │            └ <function BaseEventLoop.run_forever at 0x7f6492557c10>\n",
      "    │    └ <_UnixSelectorEventLoop running=True closed=False debug=False>\n",
      "    └ <tornado.platform.asyncio.AsyncIOMainLoop object at 0x7f649014adc0>\n",
      "  File \"/home/paul/.conda/envs/fate/lib/python3.8/asyncio/base_events.py\", line 570, in run_forever\n",
      "    self._run_once()\n",
      "    │    └ <function BaseEventLoop._run_once at 0x7f649255a790>\n",
      "    └ <_UnixSelectorEventLoop running=True closed=False debug=False>\n",
      "  File \"/home/paul/.conda/envs/fate/lib/python3.8/asyncio/base_events.py\", line 1859, in _run_once\n",
      "    handle._run()\n",
      "    │      └ <function Handle._run at 0x7f649258af70>\n",
      "    └ <Handle <TaskWakeupMethWrapper object at 0x7f63cd208280>(<Future finis...880>, ...],))>)>\n",
      "  File \"/home/paul/.conda/envs/fate/lib/python3.8/asyncio/events.py\", line 81, in _run\n",
      "    self._context.run(self._callback, *self._args)\n",
      "    │    │            │    │           │    └ <member '_args' of 'Handle' objects>\n",
      "    │    │            │    │           └ <Handle <TaskWakeupMethWrapper object at 0x7f63cd208280>(<Future finis...880>, ...],))>)>\n",
      "    │    │            │    └ <member '_callback' of 'Handle' objects>\n",
      "    │    │            └ <Handle <TaskWakeupMethWrapper object at 0x7f63cd208280>(<Future finis...880>, ...],))>)>\n",
      "    │    └ <member '_context' of 'Handle' objects>\n",
      "    └ <Handle <TaskWakeupMethWrapper object at 0x7f63cd208280>(<Future finis...880>, ...],))>)>\n",
      "  File \"/home/paul/.conda/envs/fate/lib/python3.8/site-packages/ipykernel/kernelbase.py\", line 510, in dispatch_queue\n",
      "    await self.process_one()\n",
      "          │    └ <function Kernel.process_one at 0x7f64909f5430>\n",
      "          └ <ipykernel.ipkernel.IPythonKernel object at 0x7f648f0eccd0>\n",
      "  File \"/home/paul/.conda/envs/fate/lib/python3.8/site-packages/ipykernel/kernelbase.py\", line 499, in process_one\n",
      "    await dispatch(*args)\n",
      "          │         └ ([<zmq.sugar.frame.Frame object at 0x7f64920609e0>, <zmq.sugar.frame.Frame object at 0x7f648c0af670>, <zmq.sugar.frame.Frame ...\n",
      "          └ <bound method Kernel.dispatch_shell of <ipykernel.ipkernel.IPythonKernel object at 0x7f648f0eccd0>>\n",
      "  File \"/home/paul/.conda/envs/fate/lib/python3.8/site-packages/ipykernel/kernelbase.py\", line 406, in dispatch_shell\n",
      "    await result\n",
      "          └ <coroutine object Kernel.execute_request at 0x7f63ce8d6cc0>\n",
      "  File \"/home/paul/.conda/envs/fate/lib/python3.8/site-packages/ipykernel/kernelbase.py\", line 729, in execute_request\n",
      "    reply_content = await reply_content\n",
      "                          └ <coroutine object IPythonKernel.do_execute at 0x7f63cd271e40>\n",
      "  File \"/home/paul/.conda/envs/fate/lib/python3.8/site-packages/ipykernel/ipkernel.py\", line 411, in do_execute\n",
      "    res = shell.run_cell(\n",
      "          │     └ <function ZMQInteractiveShell.run_cell at 0x7f649018ac10>\n",
      "          └ <ipykernel.zmqshell.ZMQInteractiveShell object at 0x7f648f0f7280>\n",
      "  File \"/home/paul/.conda/envs/fate/lib/python3.8/site-packages/ipykernel/zmqshell.py\", line 531, in run_cell\n",
      "    return super().run_cell(*args, **kwargs)\n",
      "                             │       └ {'store_history': True, 'silent': False, 'cell_id': '24d9afd9-a37f-4cbe-95ee-3d4128aaf493'}\n",
      "                             └ ('pipeline_upload.upload(drop=1)',)\n",
      "  File \"/home/paul/.conda/envs/fate/lib/python3.8/site-packages/IPython/core/interactiveshell.py\", line 3006, in run_cell\n",
      "    result = self._run_cell(\n",
      "             │    └ <function InteractiveShell._run_cell at 0x7f6491444dc0>\n",
      "             └ <ipykernel.zmqshell.ZMQInteractiveShell object at 0x7f648f0f7280>\n",
      "  File \"/home/paul/.conda/envs/fate/lib/python3.8/site-packages/IPython/core/interactiveshell.py\", line 3061, in _run_cell\n",
      "    result = runner(coro)\n",
      "             │      └ <coroutine object InteractiveShell.run_cell_async at 0x7f63cd20b440>\n",
      "             └ <function _pseudo_sync_runner at 0x7f649161d670>\n",
      "  File \"/home/paul/.conda/envs/fate/lib/python3.8/site-packages/IPython/core/async_helpers.py\", line 129, in _pseudo_sync_runner\n",
      "    coro.send(None)\n",
      "    │    └ <method 'send' of 'coroutine' objects>\n",
      "    └ <coroutine object InteractiveShell.run_cell_async at 0x7f63cd20b440>\n",
      "  File \"/home/paul/.conda/envs/fate/lib/python3.8/site-packages/IPython/core/interactiveshell.py\", line 3266, in run_cell_async\n",
      "    has_raised = await self.run_ast_nodes(code_ast.body, cell_name,\n",
      "                       │    │             │        │     └ '/tmp/ipykernel_21311/330354976.py'\n",
      "                       │    │             │        └ [<_ast.Expr object at 0x7f63cd2155e0>]\n",
      "                       │    │             └ <_ast.Module object at 0x7f63cd215910>\n",
      "                       │    └ <function InteractiveShell.run_ast_nodes at 0x7f64914460d0>\n",
      "                       └ <ipykernel.zmqshell.ZMQInteractiveShell object at 0x7f648f0f7280>\n",
      "  File \"/home/paul/.conda/envs/fate/lib/python3.8/site-packages/IPython/core/interactiveshell.py\", line 3445, in run_ast_nodes\n",
      "    if await self.run_code(code, result, async_=asy):\n",
      "             │    │        │     │              └ False\n",
      "             │    │        │     └ <ExecutionResult object at 7f63ea9dc280, execution_count=29 error_before_exec=None error_in_exec=None info=<ExecutionInfo obj...\n",
      "             │    │        └ <code object <module> at 0x7f63ea9a5450, file \"/tmp/ipykernel_21311/330354976.py\", line 1>\n",
      "             │    └ <function InteractiveShell.run_code at 0x7f6491446160>\n",
      "             └ <ipykernel.zmqshell.ZMQInteractiveShell object at 0x7f648f0f7280>\n",
      "  File \"/home/paul/.conda/envs/fate/lib/python3.8/site-packages/IPython/core/interactiveshell.py\", line 3505, in run_code\n",
      "    exec(code_obj, self.user_global_ns, self.user_ns)\n",
      "         │         │    │               │    └ {'__name__': '__main__', '__doc__': 'Automatically created module for IPython interactive environment', '__package__': None, ...\n",
      "         │         │    │               └ <ipykernel.zmqshell.ZMQInteractiveShell object at 0x7f648f0f7280>\n",
      "         │         │    └ <property object at 0x7f6491623450>\n",
      "         │         └ <ipykernel.zmqshell.ZMQInteractiveShell object at 0x7f648f0f7280>\n",
      "         └ <code object <module> at 0x7f63ea9a5450, file \"/tmp/ipykernel_21311/330354976.py\", line 1>\n",
      "\n",
      "> File \"\u001b[32m/tmp/ipykernel_21311/\u001b[0m\u001b[32m\u001b[1m330354976.py\u001b[0m\", line \u001b[33m1\u001b[0m, in \u001b[35m<module>\u001b[0m\n",
      "    \u001b[1mpipeline_upload\u001b[0m\u001b[35m\u001b[1m.\u001b[0m\u001b[1mupload\u001b[0m\u001b[1m(\u001b[0m\u001b[1mdrop\u001b[0m\u001b[35m\u001b[1m=\u001b[0m\u001b[34m\u001b[1m1\u001b[0m\u001b[1m)\u001b[0m\n",
      "    \u001b[36m│               └ \u001b[0m\u001b[36m\u001b[1m<function PipeLine.upload at 0x7f63ce88e430>\u001b[0m\n",
      "    \u001b[36m└ \u001b[0m\u001b[36m\u001b[1m<pipeline.backend.pipeline.PipeLine object at 0x7f63cd215ca0>\u001b[0m\n",
      "\n",
      "  File \"/home/paul/.conda/envs/fate/lib/python3.8/site-packages/pipeline/backend/pipeline.py\", line 664, in upload\n",
      "    self._train_job_id, detail_info = self._job_invoker.upload_data(upload_conf, int(drop))\n",
      "    │    │                            │    │            │           │                └ 1\n",
      "    │    │                            │    │            │           └ {'file': '/home/paul/work/FATE_Notebooks/1.11.1/../data/breast_hetero_guest.csv', 'table_name': 'breast_hetero_guest', 'names...\n",
      "    │    │                            │    │            └ <function JobInvoker.upload_data at 0x7f63ce87f820>\n",
      "    │    │                            │    └ <pipeline.utils.invoker.job_submitter.JobInvoker object at 0x7f63cd215dc0>\n",
      "    │    │                            └ <pipeline.backend.pipeline.PipeLine object at 0x7f63cd215ca0>\n",
      "    │    └ None\n",
      "    └ <pipeline.backend.pipeline.PipeLine object at 0x7f63cd215ca0>\n",
      "  File \"/home/paul/.conda/envs/fate/lib/python3.8/site-packages/pipeline/utils/invoker/job_submitter.py\", line 69, in upload_data\n",
      "    raise ValueError(\"job submit failed, err msg: {}\".format(result))\n",
      "                                                             └ {'retcode': 100, 'retmsg': \"('Connection aborted.', BadStatusLine('\\\\x00\\\\x00\\\\x18\\\\x04\\\\x00\\\\x00\\\\x00\\\\x00\\\\x00\\\\x00\\\\x04\\\\x...\n",
      "\n",
      "\u001b[31m\u001b[1mValueError\u001b[0m:\u001b[1m job submit failed, err msg: {'retcode': 100, 'retmsg': \"('Connection aborted.', BadStatusLine('\\\\x00\\\\x00\\\\x18\\\\x04\\\\x00\\\\x00\\\\x00\\\\x00\\\\x00\\\\x00\\\\x04\\\\x00?ÿÿ\\\\x00\\\\x05\\\\x00?ÿÿ\\\\x00\\\\x06\\\\x00\\\\x00 \\\\x00þ\\\\x03\\\\x00\\\\x00\\\\x00\\\\x01\\\\x00\\\\x00\\\\x04\\\\x08\\\\x00\\\\x00\\\\x00\\\\x00\\\\x00\\\\x00?\\\\x00\\\\x00'))\", 'traceback': ['Traceback (most recent call last):\\n', '  File \"/home/paul/.conda/envs/fate/lib/python3.8/site-packages/urllib3/connectionpool.py\", line 714, in urlopen\\n    httplib_response = self._make_request(\\n', '  File \"/home/paul/.conda/envs/fate/lib/python3.8/site-packages/urllib3/connectionpool.py\", line 466, in _make_request\\n    six.raise_from(e, None)\\n', '  File \"<string>\", line 3, in raise_from\\n', '  File \"/home/paul/.conda/envs/fate/lib/python3.8/site-packages/urllib3/connectionpool.py\", line 461, in _make_request\\n    httplib_response = conn.getresponse()\\n', '  File \"/home/paul/.conda/envs/fate/lib/python3.8/http/client.py\", line 1348, in getresponse\\n    response.begin()\\n', '  File \"/home/paul/.conda/envs/fate/lib/python3.8/http/client.py\", line 316, in begin\\n    version, status, reason = self._read_status()\\n', '  File \"/home/paul/.conda/envs/fate/lib/python3.8/http/client.py\", line 298, in _read_status\\n    raise BadStatusLine(line)\\n', 'http.client.BadStatusLine: \\x00\\x00\\x18\\x04\\x00\\x00\\x00\\x00\\x00\\x00\\x04\\x00?ÿÿ\\x00\\x05\\x00?ÿÿ\\x00\\x06\\x00\\x00 \\x00þ\\x03\\x00\\x00\\x00\\x01\\x00\\x00\\x04\\x08\\x00\\x00\\x00\\x00\\x00\\x00?\\x00\\x00\\n', '\\nDuring handling of the above exception, another exception occurred:\\n\\n', 'Traceback (most recent call last):\\n', '  File \"/home/paul/.conda/envs/fate/lib/python3.8/site-packages/requests/adapters.py\", line 486, in send\\n    resp = conn.urlopen(\\n', '  File \"/home/paul/.conda/envs/fate/lib/python3.8/site-packages/urllib3/connectionpool.py\", line 798, in urlopen\\n    retries = retries.increment(\\n', '  File \"/home/paul/.conda/envs/fate/lib/python3.8/site-packages/urllib3/util/retry.py\", line 550, in increment\\n    raise six.reraise(type(error), error, _stacktrace)\\n', '  File \"/home/paul/.conda/envs/fate/lib/python3.8/site-packages/urllib3/packages/six.py\", line 769, in reraise\\n    raise value.with_traceback(tb)\\n', '  File \"/home/paul/.conda/envs/fate/lib/python3.8/site-packages/urllib3/connectionpool.py\", line 714, in urlopen\\n    httplib_response = self._make_request(\\n', '  File \"/home/paul/.conda/envs/fate/lib/python3.8/site-packages/urllib3/connectionpool.py\", line 466, in _make_request\\n    six.raise_from(e, None)\\n', '  File \"<string>\", line 3, in raise_from\\n', '  File \"/home/paul/.conda/envs/fate/lib/python3.8/site-packages/urllib3/connectionpool.py\", line 461, in _make_request\\n    httplib_response = conn.getresponse()\\n', '  File \"/home/paul/.conda/envs/fate/lib/python3.8/http/client.py\", line 1348, in getresponse\\n    response.begin()\\n', '  File \"/home/paul/.conda/envs/fate/lib/python3.8/http/client.py\", line 316, in begin\\n    version, status, reason = self._read_status()\\n', '  File \"/home/paul/.conda/envs/fate/lib/python3.8/http/client.py\", line 298, in _read_status\\n    raise BadStatusLine(line)\\n', \"urllib3.exceptions.ProtocolError: ('Connection aborted.', BadStatusLine('\\\\x00\\\\x00\\\\x18\\\\x04\\\\x00\\\\x00\\\\x00\\\\x00\\\\x00\\\\x00\\\\x04\\\\x00?ÿÿ\\\\x00\\\\x05\\\\x00?ÿÿ\\\\x00\\\\x06\\\\x00\\\\x00 \\\\x00þ\\\\x03\\\\x00\\\\x00\\\\x00\\\\x01\\\\x00\\\\x00\\\\x04\\\\x08\\\\x00\\\\x00\\\\x00\\\\x00\\\\x00\\\\x00?\\\\x00\\\\x00'))\\n\", '\\nDuring handling of the above exception, another exception occurred:\\n\\n', 'Traceback (most recent call last):\\n', '  File \"/home/paul/.conda/envs/fate/lib/python3.8/site-packages/flow_sdk/client/base.py\", line 81, in _request\\n    response = self._http.send(prepped, stream=stream)\\n', '  File \"/home/paul/.conda/envs/fate/lib/python3.8/site-packages/requests/sessions.py\", line 703, in send\\n    r = adapter.send(request, **kwargs)\\n', '  File \"/home/paul/.conda/envs/fate/lib/python3.8/site-packages/requests/adapters.py\", line 501, in send\\n    raise ConnectionError(err, request=request)\\n', \"requests.exceptions.ConnectionError: ('Connection aborted.', BadStatusLine('\\\\x00\\\\x00\\\\x18\\\\x04\\\\x00\\\\x00\\\\x00\\\\x00\\\\x00\\\\x00\\\\x04\\\\x00?ÿÿ\\\\x00\\\\x05\\\\x00?ÿÿ\\\\x00\\\\x06\\\\x00\\\\x00 \\\\x00þ\\\\x03\\\\x00\\\\x00\\\\x00\\\\x01\\\\x00\\\\x00\\\\x04\\\\x08\\\\x00\\\\x00\\\\x00\\\\x00\\\\x00\\\\x00?\\\\x00\\\\x00'))\\n\"]}\u001b[0m\n"
     ]
    },
    {
     "ename": "ValueError",
     "evalue": "job submit failed, err msg: {'retcode': 100, 'retmsg': \"('Connection aborted.', BadStatusLine('\\\\x00\\\\x00\\\\x18\\\\x04\\\\x00\\\\x00\\\\x00\\\\x00\\\\x00\\\\x00\\\\x04\\\\x00?ÿÿ\\\\x00\\\\x05\\\\x00?ÿÿ\\\\x00\\\\x06\\\\x00\\\\x00 \\\\x00þ\\\\x03\\\\x00\\\\x00\\\\x00\\\\x01\\\\x00\\\\x00\\\\x04\\\\x08\\\\x00\\\\x00\\\\x00\\\\x00\\\\x00\\\\x00?\\\\x00\\\\x00'))\", 'traceback': ['Traceback (most recent call last):\\n', '  File \"/home/paul/.conda/envs/fate/lib/python3.8/site-packages/urllib3/connectionpool.py\", line 714, in urlopen\\n    httplib_response = self._make_request(\\n', '  File \"/home/paul/.conda/envs/fate/lib/python3.8/site-packages/urllib3/connectionpool.py\", line 466, in _make_request\\n    six.raise_from(e, None)\\n', '  File \"<string>\", line 3, in raise_from\\n', '  File \"/home/paul/.conda/envs/fate/lib/python3.8/site-packages/urllib3/connectionpool.py\", line 461, in _make_request\\n    httplib_response = conn.getresponse()\\n', '  File \"/home/paul/.conda/envs/fate/lib/python3.8/http/client.py\", line 1348, in getresponse\\n    response.begin()\\n', '  File \"/home/paul/.conda/envs/fate/lib/python3.8/http/client.py\", line 316, in begin\\n    version, status, reason = self._read_status()\\n', '  File \"/home/paul/.conda/envs/fate/lib/python3.8/http/client.py\", line 298, in _read_status\\n    raise BadStatusLine(line)\\n', 'http.client.BadStatusLine: \\x00\\x00\\x18\\x04\\x00\\x00\\x00\\x00\\x00\\x00\\x04\\x00?ÿÿ\\x00\\x05\\x00?ÿÿ\\x00\\x06\\x00\\x00 \\x00þ\\x03\\x00\\x00\\x00\\x01\\x00\\x00\\x04\\x08\\x00\\x00\\x00\\x00\\x00\\x00?\\x00\\x00\\n', '\\nDuring handling of the above exception, another exception occurred:\\n\\n', 'Traceback (most recent call last):\\n', '  File \"/home/paul/.conda/envs/fate/lib/python3.8/site-packages/requests/adapters.py\", line 486, in send\\n    resp = conn.urlopen(\\n', '  File \"/home/paul/.conda/envs/fate/lib/python3.8/site-packages/urllib3/connectionpool.py\", line 798, in urlopen\\n    retries = retries.increment(\\n', '  File \"/home/paul/.conda/envs/fate/lib/python3.8/site-packages/urllib3/util/retry.py\", line 550, in increment\\n    raise six.reraise(type(error), error, _stacktrace)\\n', '  File \"/home/paul/.conda/envs/fate/lib/python3.8/site-packages/urllib3/packages/six.py\", line 769, in reraise\\n    raise value.with_traceback(tb)\\n', '  File \"/home/paul/.conda/envs/fate/lib/python3.8/site-packages/urllib3/connectionpool.py\", line 714, in urlopen\\n    httplib_response = self._make_request(\\n', '  File \"/home/paul/.conda/envs/fate/lib/python3.8/site-packages/urllib3/connectionpool.py\", line 466, in _make_request\\n    six.raise_from(e, None)\\n', '  File \"<string>\", line 3, in raise_from\\n', '  File \"/home/paul/.conda/envs/fate/lib/python3.8/site-packages/urllib3/connectionpool.py\", line 461, in _make_request\\n    httplib_response = conn.getresponse()\\n', '  File \"/home/paul/.conda/envs/fate/lib/python3.8/http/client.py\", line 1348, in getresponse\\n    response.begin()\\n', '  File \"/home/paul/.conda/envs/fate/lib/python3.8/http/client.py\", line 316, in begin\\n    version, status, reason = self._read_status()\\n', '  File \"/home/paul/.conda/envs/fate/lib/python3.8/http/client.py\", line 298, in _read_status\\n    raise BadStatusLine(line)\\n', \"urllib3.exceptions.ProtocolError: ('Connection aborted.', BadStatusLine('\\\\x00\\\\x00\\\\x18\\\\x04\\\\x00\\\\x00\\\\x00\\\\x00\\\\x00\\\\x00\\\\x04\\\\x00?ÿÿ\\\\x00\\\\x05\\\\x00?ÿÿ\\\\x00\\\\x06\\\\x00\\\\x00 \\\\x00þ\\\\x03\\\\x00\\\\x00\\\\x00\\\\x01\\\\x00\\\\x00\\\\x04\\\\x08\\\\x00\\\\x00\\\\x00\\\\x00\\\\x00\\\\x00?\\\\x00\\\\x00'))\\n\", '\\nDuring handling of the above exception, another exception occurred:\\n\\n', 'Traceback (most recent call last):\\n', '  File \"/home/paul/.conda/envs/fate/lib/python3.8/site-packages/flow_sdk/client/base.py\", line 81, in _request\\n    response = self._http.send(prepped, stream=stream)\\n', '  File \"/home/paul/.conda/envs/fate/lib/python3.8/site-packages/requests/sessions.py\", line 703, in send\\n    r = adapter.send(request, **kwargs)\\n', '  File \"/home/paul/.conda/envs/fate/lib/python3.8/site-packages/requests/adapters.py\", line 501, in send\\n    raise ConnectionError(err, request=request)\\n', \"requests.exceptions.ConnectionError: ('Connection aborted.', BadStatusLine('\\\\x00\\\\x00\\\\x18\\\\x04\\\\x00\\\\x00\\\\x00\\\\x00\\\\x00\\\\x00\\\\x04\\\\x00?ÿÿ\\\\x00\\\\x05\\\\x00?ÿÿ\\\\x00\\\\x06\\\\x00\\\\x00 \\\\x00þ\\\\x03\\\\x00\\\\x00\\\\x00\\\\x01\\\\x00\\\\x00\\\\x04\\\\x08\\\\x00\\\\x00\\\\x00\\\\x00\\\\x00\\\\x00?\\\\x00\\\\x00'))\\n\"]}",
     "output_type": "error",
     "traceback": [
      "\u001b[0;31m---------------------------------------------------------------------------\u001b[0m",
      "\u001b[0;31mValueError\u001b[0m                                Traceback (most recent call last)",
      "File \u001b[0;32m~/.conda/envs/fate/lib/python3.8/site-packages/pipeline/utils/invoker/job_submitter.py:61\u001b[0m, in \u001b[0;36mJobInvoker.upload_data\u001b[0;34m(self, submit_conf, drop)\u001b[0m\n\u001b[1;32m     60\u001b[0m \u001b[38;5;28;01mif\u001b[39;00m \u001b[38;5;124m'\u001b[39m\u001b[38;5;124mretcode\u001b[39m\u001b[38;5;124m'\u001b[39m \u001b[38;5;129;01mnot\u001b[39;00m \u001b[38;5;129;01min\u001b[39;00m result \u001b[38;5;129;01mor\u001b[39;00m result[\u001b[38;5;124m\"\u001b[39m\u001b[38;5;124mretcode\u001b[39m\u001b[38;5;124m\"\u001b[39m] \u001b[38;5;241m!=\u001b[39m \u001b[38;5;241m0\u001b[39m:\n\u001b[0;32m---> 61\u001b[0m     \u001b[38;5;28;01mraise\u001b[39;00m \u001b[38;5;167;01mValueError\u001b[39;00m\n\u001b[1;32m     63\u001b[0m \u001b[38;5;28;01mif\u001b[39;00m \u001b[38;5;124m\"\u001b[39m\u001b[38;5;124mjobId\u001b[39m\u001b[38;5;124m\"\u001b[39m \u001b[38;5;129;01mnot\u001b[39;00m \u001b[38;5;129;01min\u001b[39;00m result:\n",
      "\u001b[0;31mValueError\u001b[0m: ",
      "\nDuring handling of the above exception, another exception occurred:\n",
      "\u001b[0;31mValueError\u001b[0m                                Traceback (most recent call last)",
      "Cell \u001b[0;32mIn[29], line 1\u001b[0m\n\u001b[0;32m----> 1\u001b[0m \u001b[43mpipeline_upload\u001b[49m\u001b[38;5;241;43m.\u001b[39;49m\u001b[43mupload\u001b[49m\u001b[43m(\u001b[49m\u001b[43mdrop\u001b[49m\u001b[38;5;241;43m=\u001b[39;49m\u001b[38;5;241;43m1\u001b[39;49m\u001b[43m)\u001b[49m\n",
      "File \u001b[0;32m~/.conda/envs/fate/lib/python3.8/site-packages/loguru/_logger.py:1251\u001b[0m, in \u001b[0;36mLogger.catch.<locals>.Catcher.__call__.<locals>.catch_wrapper\u001b[0;34m(*args, **kwargs)\u001b[0m\n\u001b[1;32m   1249\u001b[0m \u001b[38;5;28;01mdef\u001b[39;00m \u001b[38;5;21mcatch_wrapper\u001b[39m(\u001b[38;5;241m*\u001b[39margs, \u001b[38;5;241m*\u001b[39m\u001b[38;5;241m*\u001b[39mkwargs):\n\u001b[1;32m   1250\u001b[0m     \u001b[38;5;28;01mwith\u001b[39;00m catcher:\n\u001b[0;32m-> 1251\u001b[0m         \u001b[38;5;28;01mreturn\u001b[39;00m \u001b[43mfunction\u001b[49m\u001b[43m(\u001b[49m\u001b[38;5;241;43m*\u001b[39;49m\u001b[43margs\u001b[49m\u001b[43m,\u001b[49m\u001b[43m \u001b[49m\u001b[38;5;241;43m*\u001b[39;49m\u001b[38;5;241;43m*\u001b[39;49m\u001b[43mkwargs\u001b[49m\u001b[43m)\u001b[49m\n\u001b[1;32m   1252\u001b[0m     \u001b[38;5;28;01mreturn\u001b[39;00m default\n",
      "File \u001b[0;32m~/.conda/envs/fate/lib/python3.8/site-packages/pipeline/backend/pipeline.py:664\u001b[0m, in \u001b[0;36mPipeLine.upload\u001b[0;34m(self, drop)\u001b[0m\n\u001b[1;32m    662\u001b[0m upload_conf \u001b[38;5;241m=\u001b[39m \u001b[38;5;28mself\u001b[39m\u001b[38;5;241m.\u001b[39m_construct_upload_conf(data_conf)\n\u001b[1;32m    663\u001b[0m LOGGER\u001b[38;5;241m.\u001b[39mdebug(\u001b[38;5;124mf\u001b[39m\u001b[38;5;124m\"\u001b[39m\u001b[38;5;124mupload_conf is \u001b[39m\u001b[38;5;132;01m{\u001b[39;00mjson\u001b[38;5;241m.\u001b[39mdumps(upload_conf)\u001b[38;5;132;01m}\u001b[39;00m\u001b[38;5;124m\"\u001b[39m)\n\u001b[0;32m--> 664\u001b[0m \u001b[38;5;28mself\u001b[39m\u001b[38;5;241m.\u001b[39m_train_job_id, detail_info \u001b[38;5;241m=\u001b[39m \u001b[38;5;28;43mself\u001b[39;49m\u001b[38;5;241;43m.\u001b[39;49m\u001b[43m_job_invoker\u001b[49m\u001b[38;5;241;43m.\u001b[39;49m\u001b[43mupload_data\u001b[49m\u001b[43m(\u001b[49m\u001b[43mupload_conf\u001b[49m\u001b[43m,\u001b[49m\u001b[43m \u001b[49m\u001b[38;5;28;43mint\u001b[39;49m\u001b[43m(\u001b[49m\u001b[43mdrop\u001b[49m\u001b[43m)\u001b[49m\u001b[43m)\u001b[49m\n\u001b[1;32m    665\u001b[0m \u001b[38;5;28mself\u001b[39m\u001b[38;5;241m.\u001b[39m_train_board_url \u001b[38;5;241m=\u001b[39m detail_info[\u001b[38;5;124m\"\u001b[39m\u001b[38;5;124mboard_url\u001b[39m\u001b[38;5;124m\"\u001b[39m]\n\u001b[1;32m    666\u001b[0m \u001b[38;5;28mself\u001b[39m\u001b[38;5;241m.\u001b[39m_job_invoker\u001b[38;5;241m.\u001b[39mmonitor_job_status(\u001b[38;5;28mself\u001b[39m\u001b[38;5;241m.\u001b[39m_train_job_id,\n\u001b[1;32m    667\u001b[0m                                      \u001b[38;5;124m\"\u001b[39m\u001b[38;5;124mlocal\u001b[39m\u001b[38;5;124m\"\u001b[39m,\n\u001b[1;32m    668\u001b[0m                                      \u001b[38;5;241m0\u001b[39m)\n",
      "File \u001b[0;32m~/.conda/envs/fate/lib/python3.8/site-packages/pipeline/utils/invoker/job_submitter.py:69\u001b[0m, in \u001b[0;36mJobInvoker.upload_data\u001b[0;34m(self, submit_conf, drop)\u001b[0m\n\u001b[1;32m     67\u001b[0m     data \u001b[38;5;241m=\u001b[39m result[\u001b[38;5;124m\"\u001b[39m\u001b[38;5;124mdata\u001b[39m\u001b[38;5;124m\"\u001b[39m]\n\u001b[1;32m     68\u001b[0m \u001b[38;5;28;01mexcept\u001b[39;00m \u001b[38;5;167;01mBaseException\u001b[39;00m:\n\u001b[0;32m---> 69\u001b[0m     \u001b[38;5;28;01mraise\u001b[39;00m \u001b[38;5;167;01mValueError\u001b[39;00m(\u001b[38;5;124m\"\u001b[39m\u001b[38;5;124mjob submit failed, err msg: \u001b[39m\u001b[38;5;132;01m{}\u001b[39;00m\u001b[38;5;124m\"\u001b[39m\u001b[38;5;241m.\u001b[39mformat(result))\n\u001b[1;32m     70\u001b[0m \u001b[38;5;28;01mreturn\u001b[39;00m job_id, data\n",
      "\u001b[0;31mValueError\u001b[0m: job submit failed, err msg: {'retcode': 100, 'retmsg': \"('Connection aborted.', BadStatusLine('\\\\x00\\\\x00\\\\x18\\\\x04\\\\x00\\\\x00\\\\x00\\\\x00\\\\x00\\\\x00\\\\x04\\\\x00?ÿÿ\\\\x00\\\\x05\\\\x00?ÿÿ\\\\x00\\\\x06\\\\x00\\\\x00 \\\\x00þ\\\\x03\\\\x00\\\\x00\\\\x00\\\\x01\\\\x00\\\\x00\\\\x04\\\\x08\\\\x00\\\\x00\\\\x00\\\\x00\\\\x00\\\\x00?\\\\x00\\\\x00'))\", 'traceback': ['Traceback (most recent call last):\\n', '  File \"/home/paul/.conda/envs/fate/lib/python3.8/site-packages/urllib3/connectionpool.py\", line 714, in urlopen\\n    httplib_response = self._make_request(\\n', '  File \"/home/paul/.conda/envs/fate/lib/python3.8/site-packages/urllib3/connectionpool.py\", line 466, in _make_request\\n    six.raise_from(e, None)\\n', '  File \"<string>\", line 3, in raise_from\\n', '  File \"/home/paul/.conda/envs/fate/lib/python3.8/site-packages/urllib3/connectionpool.py\", line 461, in _make_request\\n    httplib_response = conn.getresponse()\\n', '  File \"/home/paul/.conda/envs/fate/lib/python3.8/http/client.py\", line 1348, in getresponse\\n    response.begin()\\n', '  File \"/home/paul/.conda/envs/fate/lib/python3.8/http/client.py\", line 316, in begin\\n    version, status, reason = self._read_status()\\n', '  File \"/home/paul/.conda/envs/fate/lib/python3.8/http/client.py\", line 298, in _read_status\\n    raise BadStatusLine(line)\\n', 'http.client.BadStatusLine: \\x00\\x00\\x18\\x04\\x00\\x00\\x00\\x00\\x00\\x00\\x04\\x00?ÿÿ\\x00\\x05\\x00?ÿÿ\\x00\\x06\\x00\\x00 \\x00þ\\x03\\x00\\x00\\x00\\x01\\x00\\x00\\x04\\x08\\x00\\x00\\x00\\x00\\x00\\x00?\\x00\\x00\\n', '\\nDuring handling of the above exception, another exception occurred:\\n\\n', 'Traceback (most recent call last):\\n', '  File \"/home/paul/.conda/envs/fate/lib/python3.8/site-packages/requests/adapters.py\", line 486, in send\\n    resp = conn.urlopen(\\n', '  File \"/home/paul/.conda/envs/fate/lib/python3.8/site-packages/urllib3/connectionpool.py\", line 798, in urlopen\\n    retries = retries.increment(\\n', '  File \"/home/paul/.conda/envs/fate/lib/python3.8/site-packages/urllib3/util/retry.py\", line 550, in increment\\n    raise six.reraise(type(error), error, _stacktrace)\\n', '  File \"/home/paul/.conda/envs/fate/lib/python3.8/site-packages/urllib3/packages/six.py\", line 769, in reraise\\n    raise value.with_traceback(tb)\\n', '  File \"/home/paul/.conda/envs/fate/lib/python3.8/site-packages/urllib3/connectionpool.py\", line 714, in urlopen\\n    httplib_response = self._make_request(\\n', '  File \"/home/paul/.conda/envs/fate/lib/python3.8/site-packages/urllib3/connectionpool.py\", line 466, in _make_request\\n    six.raise_from(e, None)\\n', '  File \"<string>\", line 3, in raise_from\\n', '  File \"/home/paul/.conda/envs/fate/lib/python3.8/site-packages/urllib3/connectionpool.py\", line 461, in _make_request\\n    httplib_response = conn.getresponse()\\n', '  File \"/home/paul/.conda/envs/fate/lib/python3.8/http/client.py\", line 1348, in getresponse\\n    response.begin()\\n', '  File \"/home/paul/.conda/envs/fate/lib/python3.8/http/client.py\", line 316, in begin\\n    version, status, reason = self._read_status()\\n', '  File \"/home/paul/.conda/envs/fate/lib/python3.8/http/client.py\", line 298, in _read_status\\n    raise BadStatusLine(line)\\n', \"urllib3.exceptions.ProtocolError: ('Connection aborted.', BadStatusLine('\\\\x00\\\\x00\\\\x18\\\\x04\\\\x00\\\\x00\\\\x00\\\\x00\\\\x00\\\\x00\\\\x04\\\\x00?ÿÿ\\\\x00\\\\x05\\\\x00?ÿÿ\\\\x00\\\\x06\\\\x00\\\\x00 \\\\x00þ\\\\x03\\\\x00\\\\x00\\\\x00\\\\x01\\\\x00\\\\x00\\\\x04\\\\x08\\\\x00\\\\x00\\\\x00\\\\x00\\\\x00\\\\x00?\\\\x00\\\\x00'))\\n\", '\\nDuring handling of the above exception, another exception occurred:\\n\\n', 'Traceback (most recent call last):\\n', '  File \"/home/paul/.conda/envs/fate/lib/python3.8/site-packages/flow_sdk/client/base.py\", line 81, in _request\\n    response = self._http.send(prepped, stream=stream)\\n', '  File \"/home/paul/.conda/envs/fate/lib/python3.8/site-packages/requests/sessions.py\", line 703, in send\\n    r = adapter.send(request, **kwargs)\\n', '  File \"/home/paul/.conda/envs/fate/lib/python3.8/site-packages/requests/adapters.py\", line 501, in send\\n    raise ConnectionError(err, request=request)\\n', \"requests.exceptions.ConnectionError: ('Connection aborted.', BadStatusLine('\\\\x00\\\\x00\\\\x18\\\\x04\\\\x00\\\\x00\\\\x00\\\\x00\\\\x00\\\\x00\\\\x04\\\\x00?ÿÿ\\\\x00\\\\x05\\\\x00?ÿÿ\\\\x00\\\\x06\\\\x00\\\\x00 \\\\x00þ\\\\x03\\\\x00\\\\x00\\\\x00\\\\x01\\\\x00\\\\x00\\\\x04\\\\x08\\\\x00\\\\x00\\\\x00\\\\x00\\\\x00\\\\x00?\\\\x00\\\\x00'))\\n\"]}"
     ]
    }
   ],
   "source": [
    "pipeline_upload.upload(drop=1)"
   ]
  },
  {
   "cell_type": "markdown",
   "metadata": {},
   "source": [
    "Define a `Reader` to load data"
   ]
  },
  {
   "cell_type": "code",
   "execution_count": 30,
   "metadata": {},
   "outputs": [],
   "source": [
    "reader_0 = Reader(name=\"reader_0\")\n",
    "# set guest parameter\n",
    "reader_0.get_party_instance(role='guest', party_id=9999).component_param(\n",
    "    table={\"name\": \"breast_hetero_guest\", \"namespace\": \"experiment\"})\n",
    "# set host parameter\n",
    "reader_0.get_party_instance(role='host', party_id=10000).component_param(\n",
    "    table={\"name\": \"breast_hetero_host\", \"namespace\": \"experiment\"})"
   ]
  },
  {
   "cell_type": "markdown",
   "metadata": {},
   "source": [
    "Add a `DataTransform` component to parse raw data into Data Instance"
   ]
  },
  {
   "cell_type": "code",
   "execution_count": 31,
   "metadata": {},
   "outputs": [],
   "source": [
    "data_transform_0 = DataTransform(name=\"data_transform_0\")\n",
    "# set guest parameter\n",
    "data_transform_0.get_party_instance(role='guest', party_id=9999).component_param(\n",
    "    with_label=True)\n",
    "data_transform_0.get_party_instance(role='host', party_id=[10000]).component_param(\n",
    "    with_label=False)"
   ]
  },
  {
   "cell_type": "markdown",
   "metadata": {},
   "source": [
    "Add a `Intersection` component to perform PSI for hetero-scenario"
   ]
  },
  {
   "cell_type": "code",
   "execution_count": 32,
   "metadata": {},
   "outputs": [],
   "source": [
    "intersect_0 = Intersection(name=\"intersect_0\")"
   ]
  },
  {
   "cell_type": "markdown",
   "metadata": {},
   "source": [
    "Now, we define the `HeteroSecureBoost` component. The following parameters will be set for all parties involved."
   ]
  },
  {
   "cell_type": "code",
   "execution_count": 33,
   "metadata": {},
   "outputs": [],
   "source": [
    "hetero_secureboost_0 = HeteroSecureBoost(name=\"hetero_secureboost_0\",\n",
    "                                         num_trees=5,\n",
    "                                         bin_num=16,\n",
    "                                         task_type=\"classification\",\n",
    "                                         objective_param={\"objective\": \"cross_entropy\"},\n",
    "                                         encrypt_param={\"method\": \"paillier\"},\n",
    "                                         tree_param={\"max_depth\": 3})\n"
   ]
  },
  {
   "cell_type": "markdown",
   "metadata": {},
   "source": [
    "To show the evaluation result, an \"Evaluation\" component is needed."
   ]
  },
  {
   "cell_type": "code",
   "execution_count": 34,
   "metadata": {},
   "outputs": [],
   "source": [
    "evaluation_0 = Evaluation(name=\"evaluation_0\", eval_type=\"binary\")"
   ]
  },
  {
   "cell_type": "markdown",
   "metadata": {},
   "source": [
    "Add components to pipeline, in order of execution:\n",
    "\n",
    "    - data_transform_0 comsume reader_0's output data\n",
    "    - intersect_0 comsume data_transform_0's output data\n",
    "    - hetero_secureboost_0 consume intersect_0's output data\n",
    "    - evaluation_0 consume hetero_secureboost_0's prediciton result on training data\n",
    "\n",
    "Then compile our pipeline to make it ready for submission."
   ]
  },
  {
   "cell_type": "code",
   "execution_count": 35,
   "metadata": {},
   "outputs": [],
   "source": [
    "pipeline.add_component(reader_0)\n",
    "pipeline.add_component(data_transform_0, data=Data(data=reader_0.output.data))\n",
    "pipeline.add_component(intersect_0, data=Data(data=data_transform_0.output.data))\n",
    "pipeline.add_component(hetero_secureboost_0, data=Data(train_data=intersect_0.output.data))\n",
    "pipeline.add_component(evaluation_0, data=Data(data=hetero_secureboost_0.output.data))\n",
    "pipeline.compile();\n"
   ]
  },
  {
   "cell_type": "markdown",
   "metadata": {},
   "source": [
    "Now, submit(fit) our pipeline:"
   ]
  },
  {
   "cell_type": "code",
   "execution_count": 36,
   "metadata": {},
   "outputs": [
    {
     "name": "stderr",
     "output_type": "stream",
     "text": [
      "\u001b[32m2023-05-25 15:51:14.561\u001b[0m | \u001b[31m\u001b[1mERROR   \u001b[0m | \u001b[36m__main__\u001b[0m:\u001b[36m<module>\u001b[0m:\u001b[36m1\u001b[0m - \u001b[31m\u001b[1mAn error has been caught in function '<module>', process 'MainProcess' (21311), thread 'MainThread' (140069943566976):\u001b[0m\n",
      "\u001b[33m\u001b[1mTraceback (most recent call last):\u001b[0m\n",
      "\n",
      "  File \"/home/paul/.conda/envs/fate/lib/python3.8/site-packages/pipeline/utils/invoker/job_submitter.py\", line 46, in submit_job\n",
      "    raise ValueError(f\"retcode err, callback result is {result}\")\n",
      "\n",
      "\u001b[31m\u001b[1mValueError\u001b[0m:\u001b[1m retcode err, callback result is {'retcode': 100, 'retmsg': \"('Connection aborted.', BadStatusLine('\\\\x00\\\\x00\\\\x18\\\\x04\\\\x00\\\\x00\\\\x00\\\\x00\\\\x00\\\\x00\\\\x04\\\\x00?ÿÿ\\\\x00\\\\x05\\\\x00?ÿÿ\\\\x00\\\\x06\\\\x00\\\\x00 \\\\x00þ\\\\x03\\\\x00\\\\x00\\\\x00\\\\x01\\\\x00\\\\x00\\\\x04\\\\x08\\\\x00\\\\x00\\\\x00\\\\x00\\\\x00\\\\x00?\\\\x00\\\\x00'))\", 'traceback': ['Traceback (most recent call last):\\n', '  File \"/home/paul/.conda/envs/fate/lib/python3.8/site-packages/urllib3/connectionpool.py\", line 714, in urlopen\\n    httplib_response = self._make_request(\\n', '  File \"/home/paul/.conda/envs/fate/lib/python3.8/site-packages/urllib3/connectionpool.py\", line 466, in _make_request\\n    six.raise_from(e, None)\\n', '  File \"<string>\", line 3, in raise_from\\n', '  File \"/home/paul/.conda/envs/fate/lib/python3.8/site-packages/urllib3/connectionpool.py\", line 461, in _make_request\\n    httplib_response = conn.getresponse()\\n', '  File \"/home/paul/.conda/envs/fate/lib/python3.8/http/client.py\", line 1348, in getresponse\\n    response.begin()\\n', '  File \"/home/paul/.conda/envs/fate/lib/python3.8/http/client.py\", line 316, in begin\\n    version, status, reason = self._read_status()\\n', '  File \"/home/paul/.conda/envs/fate/lib/python3.8/http/client.py\", line 298, in _read_status\\n    raise BadStatusLine(line)\\n', 'http.client.BadStatusLine: \\x00\\x00\\x18\\x04\\x00\\x00\\x00\\x00\\x00\\x00\\x04\\x00?ÿÿ\\x00\\x05\\x00?ÿÿ\\x00\\x06\\x00\\x00 \\x00þ\\x03\\x00\\x00\\x00\\x01\\x00\\x00\\x04\\x08\\x00\\x00\\x00\\x00\\x00\\x00?\\x00\\x00\\n', '\\nDuring handling of the above exception, another exception occurred:\\n\\n', 'Traceback (most recent call last):\\n', '  File \"/home/paul/.conda/envs/fate/lib/python3.8/site-packages/requests/adapters.py\", line 486, in send\\n    resp = conn.urlopen(\\n', '  File \"/home/paul/.conda/envs/fate/lib/python3.8/site-packages/urllib3/connectionpool.py\", line 798, in urlopen\\n    retries = retries.increment(\\n', '  File \"/home/paul/.conda/envs/fate/lib/python3.8/site-packages/urllib3/util/retry.py\", line 550, in increment\\n    raise six.reraise(type(error), error, _stacktrace)\\n', '  File \"/home/paul/.conda/envs/fate/lib/python3.8/site-packages/urllib3/packages/six.py\", line 769, in reraise\\n    raise value.with_traceback(tb)\\n', '  File \"/home/paul/.conda/envs/fate/lib/python3.8/site-packages/urllib3/connectionpool.py\", line 714, in urlopen\\n    httplib_response = self._make_request(\\n', '  File \"/home/paul/.conda/envs/fate/lib/python3.8/site-packages/urllib3/connectionpool.py\", line 466, in _make_request\\n    six.raise_from(e, None)\\n', '  File \"<string>\", line 3, in raise_from\\n', '  File \"/home/paul/.conda/envs/fate/lib/python3.8/site-packages/urllib3/connectionpool.py\", line 461, in _make_request\\n    httplib_response = conn.getresponse()\\n', '  File \"/home/paul/.conda/envs/fate/lib/python3.8/http/client.py\", line 1348, in getresponse\\n    response.begin()\\n', '  File \"/home/paul/.conda/envs/fate/lib/python3.8/http/client.py\", line 316, in begin\\n    version, status, reason = self._read_status()\\n', '  File \"/home/paul/.conda/envs/fate/lib/python3.8/http/client.py\", line 298, in _read_status\\n    raise BadStatusLine(line)\\n', \"urllib3.exceptions.ProtocolError: ('Connection aborted.', BadStatusLine('\\\\x00\\\\x00\\\\x18\\\\x04\\\\x00\\\\x00\\\\x00\\\\x00\\\\x00\\\\x00\\\\x04\\\\x00?ÿÿ\\\\x00\\\\x05\\\\x00?ÿÿ\\\\x00\\\\x06\\\\x00\\\\x00 \\\\x00þ\\\\x03\\\\x00\\\\x00\\\\x00\\\\x01\\\\x00\\\\x00\\\\x04\\\\x08\\\\x00\\\\x00\\\\x00\\\\x00\\\\x00\\\\x00?\\\\x00\\\\x00'))\\n\", '\\nDuring handling of the above exception, another exception occurred:\\n\\n', 'Traceback (most recent call last):\\n', '  File \"/home/paul/.conda/envs/fate/lib/python3.8/site-packages/flow_sdk/client/base.py\", line 81, in _request\\n    response = self._http.send(prepped, stream=stream)\\n', '  File \"/home/paul/.conda/envs/fate/lib/python3.8/site-packages/requests/sessions.py\", line 703, in send\\n    r = adapter.send(request, **kwargs)\\n', '  File \"/home/paul/.conda/envs/fate/lib/python3.8/site-packages/requests/adapters.py\", line 501, in send\\n    raise ConnectionError(err, request=request)\\n', \"requests.exceptions.ConnectionError: ('Connection aborted.', BadStatusLine('\\\\x00\\\\x00\\\\x18\\\\x04\\\\x00\\\\x00\\\\x00\\\\x00\\\\x00\\\\x00\\\\x04\\\\x00?ÿÿ\\\\x00\\\\x05\\\\x00?ÿÿ\\\\x00\\\\x06\\\\x00\\\\x00 \\\\x00þ\\\\x03\\\\x00\\\\x00\\\\x00\\\\x01\\\\x00\\\\x00\\\\x04\\\\x08\\\\x00\\\\x00\\\\x00\\\\x00\\\\x00\\\\x00?\\\\x00\\\\x00'))\\n\"]}\u001b[0m\n",
      "\n",
      "\n",
      "\u001b[1mDuring handling of the above exception, another exception occurred:\u001b[0m\n",
      "\n",
      "\n",
      "\u001b[33m\u001b[1mTraceback (most recent call last):\u001b[0m\n",
      "\n",
      "  File \"/home/paul/.conda/envs/fate/lib/python3.8/runpy.py\", line 194, in _run_module_as_main\n",
      "    return _run_code(code, main_globals, None,\n",
      "           │         │     └ {'__name__': '__main__', '__doc__': 'Entry point for launching an IPython kernel.\\n\\nThis is separate from the ipykernel pack...\n",
      "           │         └ <code object <module> at 0x7f6492e57a80, file \"/home/paul/.conda/envs/fate/lib/python3.8/site-packages/ipykernel_launcher.py\"...\n",
      "           └ <function _run_code at 0x7f6492e68160>\n",
      "  File \"/home/paul/.conda/envs/fate/lib/python3.8/runpy.py\", line 87, in _run_code\n",
      "    exec(code, run_globals)\n",
      "         │     └ {'__name__': '__main__', '__doc__': 'Entry point for launching an IPython kernel.\\n\\nThis is separate from the ipykernel pack...\n",
      "         └ <code object <module> at 0x7f6492e57a80, file \"/home/paul/.conda/envs/fate/lib/python3.8/site-packages/ipykernel_launcher.py\"...\n",
      "  File \"/home/paul/.conda/envs/fate/lib/python3.8/site-packages/ipykernel_launcher.py\", line 17, in <module>\n",
      "    app.launch_new_instance()\n",
      "    │   └ <bound method Application.launch_instance of <class 'ipykernel.kernelapp.IPKernelApp'>>\n",
      "    └ <module 'ipykernel.kernelapp' from '/home/paul/.conda/envs/fate/lib/python3.8/site-packages/ipykernel/kernelapp.py'>\n",
      "  File \"/home/paul/.conda/envs/fate/lib/python3.8/site-packages/traitlets/config/application.py\", line 992, in launch_instance\n",
      "    app.start()\n",
      "    │   └ <function IPKernelApp.start at 0x7f649019f4c0>\n",
      "    └ <ipykernel.kernelapp.IPKernelApp object at 0x7f6492f55460>\n",
      "  File \"/home/paul/.conda/envs/fate/lib/python3.8/site-packages/ipykernel/kernelapp.py\", line 711, in start\n",
      "    self.io_loop.start()\n",
      "    │    │       └ <function BaseAsyncIOLoop.start at 0x7f6490162160>\n",
      "    │    └ <tornado.platform.asyncio.AsyncIOMainLoop object at 0x7f649014adc0>\n",
      "    └ <ipykernel.kernelapp.IPKernelApp object at 0x7f6492f55460>\n",
      "  File \"/home/paul/.conda/envs/fate/lib/python3.8/site-packages/tornado/platform/asyncio.py\", line 215, in start\n",
      "    self.asyncio_loop.run_forever()\n",
      "    │    │            └ <function BaseEventLoop.run_forever at 0x7f6492557c10>\n",
      "    │    └ <_UnixSelectorEventLoop running=True closed=False debug=False>\n",
      "    └ <tornado.platform.asyncio.AsyncIOMainLoop object at 0x7f649014adc0>\n",
      "  File \"/home/paul/.conda/envs/fate/lib/python3.8/asyncio/base_events.py\", line 570, in run_forever\n",
      "    self._run_once()\n",
      "    │    └ <function BaseEventLoop._run_once at 0x7f649255a790>\n",
      "    └ <_UnixSelectorEventLoop running=True closed=False debug=False>\n",
      "  File \"/home/paul/.conda/envs/fate/lib/python3.8/asyncio/base_events.py\", line 1859, in _run_once\n",
      "    handle._run()\n",
      "    │      └ <function Handle._run at 0x7f649258af70>\n",
      "    └ <Handle <TaskWakeupMethWrapper object at 0x7f648c0adaf0>(<Future finis...7d0>, ...],))>)>\n",
      "  File \"/home/paul/.conda/envs/fate/lib/python3.8/asyncio/events.py\", line 81, in _run\n",
      "    self._context.run(self._callback, *self._args)\n",
      "    │    │            │    │           │    └ <member '_args' of 'Handle' objects>\n",
      "    │    │            │    │           └ <Handle <TaskWakeupMethWrapper object at 0x7f648c0adaf0>(<Future finis...7d0>, ...],))>)>\n",
      "    │    │            │    └ <member '_callback' of 'Handle' objects>\n",
      "    │    │            └ <Handle <TaskWakeupMethWrapper object at 0x7f648c0adaf0>(<Future finis...7d0>, ...],))>)>\n",
      "    │    └ <member '_context' of 'Handle' objects>\n",
      "    └ <Handle <TaskWakeupMethWrapper object at 0x7f648c0adaf0>(<Future finis...7d0>, ...],))>)>\n",
      "  File \"/home/paul/.conda/envs/fate/lib/python3.8/site-packages/ipykernel/kernelbase.py\", line 510, in dispatch_queue\n",
      "    await self.process_one()\n",
      "          │    └ <function Kernel.process_one at 0x7f64909f5430>\n",
      "          └ <ipykernel.ipkernel.IPythonKernel object at 0x7f648f0eccd0>\n",
      "  File \"/home/paul/.conda/envs/fate/lib/python3.8/site-packages/ipykernel/kernelbase.py\", line 499, in process_one\n",
      "    await dispatch(*args)\n",
      "          │         └ ([<zmq.sugar.frame.Frame object at 0x7f64920609e0>, <zmq.sugar.frame.Frame object at 0x7f648c0af670>, <zmq.sugar.frame.Frame ...\n",
      "          └ <bound method Kernel.dispatch_shell of <ipykernel.ipkernel.IPythonKernel object at 0x7f648f0eccd0>>\n",
      "  File \"/home/paul/.conda/envs/fate/lib/python3.8/site-packages/ipykernel/kernelbase.py\", line 406, in dispatch_shell\n",
      "    await result\n",
      "          └ <coroutine object Kernel.execute_request at 0x7f63ea9fe1c0>\n",
      "  File \"/home/paul/.conda/envs/fate/lib/python3.8/site-packages/ipykernel/kernelbase.py\", line 729, in execute_request\n",
      "    reply_content = await reply_content\n",
      "                          └ <coroutine object IPythonKernel.do_execute at 0x7f63cd20b440>\n",
      "  File \"/home/paul/.conda/envs/fate/lib/python3.8/site-packages/ipykernel/ipkernel.py\", line 411, in do_execute\n",
      "    res = shell.run_cell(\n",
      "          │     └ <function ZMQInteractiveShell.run_cell at 0x7f649018ac10>\n",
      "          └ <ipykernel.zmqshell.ZMQInteractiveShell object at 0x7f648f0f7280>\n",
      "  File \"/home/paul/.conda/envs/fate/lib/python3.8/site-packages/ipykernel/zmqshell.py\", line 531, in run_cell\n",
      "    return super().run_cell(*args, **kwargs)\n",
      "                             │       └ {'store_history': True, 'silent': False, 'cell_id': 'e8412854-b1f1-4fd5-a5ac-cf52865d1084'}\n",
      "                             └ ('pipeline.fit()\\n',)\n",
      "  File \"/home/paul/.conda/envs/fate/lib/python3.8/site-packages/IPython/core/interactiveshell.py\", line 3006, in run_cell\n",
      "    result = self._run_cell(\n",
      "             │    └ <function InteractiveShell._run_cell at 0x7f6491444dc0>\n",
      "             └ <ipykernel.zmqshell.ZMQInteractiveShell object at 0x7f648f0f7280>\n",
      "  File \"/home/paul/.conda/envs/fate/lib/python3.8/site-packages/IPython/core/interactiveshell.py\", line 3061, in _run_cell\n",
      "    result = runner(coro)\n",
      "             │      └ <coroutine object InteractiveShell.run_cell_async at 0x7f63ea9fef40>\n",
      "             └ <function _pseudo_sync_runner at 0x7f649161d670>\n",
      "  File \"/home/paul/.conda/envs/fate/lib/python3.8/site-packages/IPython/core/async_helpers.py\", line 129, in _pseudo_sync_runner\n",
      "    coro.send(None)\n",
      "    │    └ <method 'send' of 'coroutine' objects>\n",
      "    └ <coroutine object InteractiveShell.run_cell_async at 0x7f63ea9fef40>\n",
      "  File \"/home/paul/.conda/envs/fate/lib/python3.8/site-packages/IPython/core/interactiveshell.py\", line 3266, in run_cell_async\n",
      "    has_raised = await self.run_ast_nodes(code_ast.body, cell_name,\n",
      "                       │    │             │        │     └ '/tmp/ipykernel_21311/1661517608.py'\n",
      "                       │    │             │        └ [<_ast.Expr object at 0x7f63ea940490>]\n",
      "                       │    │             └ <_ast.Module object at 0x7f63ea9403d0>\n",
      "                       │    └ <function InteractiveShell.run_ast_nodes at 0x7f64914460d0>\n",
      "                       └ <ipykernel.zmqshell.ZMQInteractiveShell object at 0x7f648f0f7280>\n",
      "  File \"/home/paul/.conda/envs/fate/lib/python3.8/site-packages/IPython/core/interactiveshell.py\", line 3445, in run_ast_nodes\n",
      "    if await self.run_code(code, result, async_=asy):\n",
      "             │    │        │     │              └ False\n",
      "             │    │        │     └ <ExecutionResult object at 7f63ea940640, execution_count=36 error_before_exec=None error_in_exec=None info=<ExecutionInfo obj...\n",
      "             │    │        └ <code object <module> at 0x7f63ea9bed40, file \"/tmp/ipykernel_21311/1661517608.py\", line 1>\n",
      "             │    └ <function InteractiveShell.run_code at 0x7f6491446160>\n",
      "             └ <ipykernel.zmqshell.ZMQInteractiveShell object at 0x7f648f0f7280>\n",
      "  File \"/home/paul/.conda/envs/fate/lib/python3.8/site-packages/IPython/core/interactiveshell.py\", line 3505, in run_code\n",
      "    exec(code_obj, self.user_global_ns, self.user_ns)\n",
      "         │         │    │               │    └ {'__name__': '__main__', '__doc__': 'Automatically created module for IPython interactive environment', '__package__': None, ...\n",
      "         │         │    │               └ <ipykernel.zmqshell.ZMQInteractiveShell object at 0x7f648f0f7280>\n",
      "         │         │    └ <property object at 0x7f6491623450>\n",
      "         │         └ <ipykernel.zmqshell.ZMQInteractiveShell object at 0x7f648f0f7280>\n",
      "         └ <code object <module> at 0x7f63ea9bed40, file \"/tmp/ipykernel_21311/1661517608.py\", line 1>\n",
      "\n",
      "> File \"\u001b[32m/tmp/ipykernel_21311/\u001b[0m\u001b[32m\u001b[1m1661517608.py\u001b[0m\", line \u001b[33m1\u001b[0m, in \u001b[35m<module>\u001b[0m\n",
      "    \u001b[1mpipeline\u001b[0m\u001b[35m\u001b[1m.\u001b[0m\u001b[1mfit\u001b[0m\u001b[1m(\u001b[0m\u001b[1m)\u001b[0m\n",
      "    \u001b[36m│        └ \u001b[0m\u001b[36m\u001b[1m<function PipeLine.fit at 0x7f63ce88c670>\u001b[0m\n",
      "    \u001b[36m└ \u001b[0m\u001b[36m\u001b[1m<pipeline.backend.pipeline.PipeLine object at 0x7f63cd25abb0>\u001b[0m\n",
      "\n",
      "  File \"/home/paul/.conda/envs/fate/lib/python3.8/site-packages/pipeline/backend/pipeline.py\", line 580, in fit\n",
      "    self._train_job_id, detail_info = self._job_invoker.submit_job(self._train_dsl, training_conf, callback_func)\n",
      "    │    │                            │    │            │          │    │           │              └ None\n",
      "    │    │                            │    │            │          │    │           └ {'dsl_version': 2, 'initiator': {'role': 'guest', 'party_id': 9999}, 'role': {'guest': [9999], 'host': [10000]}, 'job_paramet...\n",
      "    │    │                            │    │            │          │    └ {'components': {'reader_0': {'module': 'Reader', 'output': {'data': ['data']}, 'provider': 'fate_flow'}, 'data_transform_0': ...\n",
      "    │    │                            │    │            │          └ <pipeline.backend.pipeline.PipeLine object at 0x7f63cd25abb0>\n",
      "    │    │                            │    │            └ <function JobInvoker.submit_job at 0x7f63ce87f790>\n",
      "    │    │                            │    └ <pipeline.utils.invoker.job_submitter.JobInvoker object at 0x7f63cd25a910>\n",
      "    │    │                            └ <pipeline.backend.pipeline.PipeLine object at 0x7f63cd25abb0>\n",
      "    │    └ None\n",
      "    └ <pipeline.backend.pipeline.PipeLine object at 0x7f63cd25abb0>\n",
      "  File \"/home/paul/.conda/envs/fate/lib/python3.8/site-packages/pipeline/utils/invoker/job_submitter.py\", line 54, in submit_job\n",
      "    raise ValueError(\"job submit failed, err msg: {}\".format(result))\n",
      "                                                             └ {'retcode': 100, 'retmsg': \"('Connection aborted.', BadStatusLine('\\\\x00\\\\x00\\\\x18\\\\x04\\\\x00\\\\x00\\\\x00\\\\x00\\\\x00\\\\x00\\\\x04\\\\x...\n",
      "\n",
      "\u001b[31m\u001b[1mValueError\u001b[0m:\u001b[1m job submit failed, err msg: {'retcode': 100, 'retmsg': \"('Connection aborted.', BadStatusLine('\\\\x00\\\\x00\\\\x18\\\\x04\\\\x00\\\\x00\\\\x00\\\\x00\\\\x00\\\\x00\\\\x04\\\\x00?ÿÿ\\\\x00\\\\x05\\\\x00?ÿÿ\\\\x00\\\\x06\\\\x00\\\\x00 \\\\x00þ\\\\x03\\\\x00\\\\x00\\\\x00\\\\x01\\\\x00\\\\x00\\\\x04\\\\x08\\\\x00\\\\x00\\\\x00\\\\x00\\\\x00\\\\x00?\\\\x00\\\\x00'))\", 'traceback': ['Traceback (most recent call last):\\n', '  File \"/home/paul/.conda/envs/fate/lib/python3.8/site-packages/urllib3/connectionpool.py\", line 714, in urlopen\\n    httplib_response = self._make_request(\\n', '  File \"/home/paul/.conda/envs/fate/lib/python3.8/site-packages/urllib3/connectionpool.py\", line 466, in _make_request\\n    six.raise_from(e, None)\\n', '  File \"<string>\", line 3, in raise_from\\n', '  File \"/home/paul/.conda/envs/fate/lib/python3.8/site-packages/urllib3/connectionpool.py\", line 461, in _make_request\\n    httplib_response = conn.getresponse()\\n', '  File \"/home/paul/.conda/envs/fate/lib/python3.8/http/client.py\", line 1348, in getresponse\\n    response.begin()\\n', '  File \"/home/paul/.conda/envs/fate/lib/python3.8/http/client.py\", line 316, in begin\\n    version, status, reason = self._read_status()\\n', '  File \"/home/paul/.conda/envs/fate/lib/python3.8/http/client.py\", line 298, in _read_status\\n    raise BadStatusLine(line)\\n', 'http.client.BadStatusLine: \\x00\\x00\\x18\\x04\\x00\\x00\\x00\\x00\\x00\\x00\\x04\\x00?ÿÿ\\x00\\x05\\x00?ÿÿ\\x00\\x06\\x00\\x00 \\x00þ\\x03\\x00\\x00\\x00\\x01\\x00\\x00\\x04\\x08\\x00\\x00\\x00\\x00\\x00\\x00?\\x00\\x00\\n', '\\nDuring handling of the above exception, another exception occurred:\\n\\n', 'Traceback (most recent call last):\\n', '  File \"/home/paul/.conda/envs/fate/lib/python3.8/site-packages/requests/adapters.py\", line 486, in send\\n    resp = conn.urlopen(\\n', '  File \"/home/paul/.conda/envs/fate/lib/python3.8/site-packages/urllib3/connectionpool.py\", line 798, in urlopen\\n    retries = retries.increment(\\n', '  File \"/home/paul/.conda/envs/fate/lib/python3.8/site-packages/urllib3/util/retry.py\", line 550, in increment\\n    raise six.reraise(type(error), error, _stacktrace)\\n', '  File \"/home/paul/.conda/envs/fate/lib/python3.8/site-packages/urllib3/packages/six.py\", line 769, in reraise\\n    raise value.with_traceback(tb)\\n', '  File \"/home/paul/.conda/envs/fate/lib/python3.8/site-packages/urllib3/connectionpool.py\", line 714, in urlopen\\n    httplib_response = self._make_request(\\n', '  File \"/home/paul/.conda/envs/fate/lib/python3.8/site-packages/urllib3/connectionpool.py\", line 466, in _make_request\\n    six.raise_from(e, None)\\n', '  File \"<string>\", line 3, in raise_from\\n', '  File \"/home/paul/.conda/envs/fate/lib/python3.8/site-packages/urllib3/connectionpool.py\", line 461, in _make_request\\n    httplib_response = conn.getresponse()\\n', '  File \"/home/paul/.conda/envs/fate/lib/python3.8/http/client.py\", line 1348, in getresponse\\n    response.begin()\\n', '  File \"/home/paul/.conda/envs/fate/lib/python3.8/http/client.py\", line 316, in begin\\n    version, status, reason = self._read_status()\\n', '  File \"/home/paul/.conda/envs/fate/lib/python3.8/http/client.py\", line 298, in _read_status\\n    raise BadStatusLine(line)\\n', \"urllib3.exceptions.ProtocolError: ('Connection aborted.', BadStatusLine('\\\\x00\\\\x00\\\\x18\\\\x04\\\\x00\\\\x00\\\\x00\\\\x00\\\\x00\\\\x00\\\\x04\\\\x00?ÿÿ\\\\x00\\\\x05\\\\x00?ÿÿ\\\\x00\\\\x06\\\\x00\\\\x00 \\\\x00þ\\\\x03\\\\x00\\\\x00\\\\x00\\\\x01\\\\x00\\\\x00\\\\x04\\\\x08\\\\x00\\\\x00\\\\x00\\\\x00\\\\x00\\\\x00?\\\\x00\\\\x00'))\\n\", '\\nDuring handling of the above exception, another exception occurred:\\n\\n', 'Traceback (most recent call last):\\n', '  File \"/home/paul/.conda/envs/fate/lib/python3.8/site-packages/flow_sdk/client/base.py\", line 81, in _request\\n    response = self._http.send(prepped, stream=stream)\\n', '  File \"/home/paul/.conda/envs/fate/lib/python3.8/site-packages/requests/sessions.py\", line 703, in send\\n    r = adapter.send(request, **kwargs)\\n', '  File \"/home/paul/.conda/envs/fate/lib/python3.8/site-packages/requests/adapters.py\", line 501, in send\\n    raise ConnectionError(err, request=request)\\n', \"requests.exceptions.ConnectionError: ('Connection aborted.', BadStatusLine('\\\\x00\\\\x00\\\\x18\\\\x04\\\\x00\\\\x00\\\\x00\\\\x00\\\\x00\\\\x00\\\\x04\\\\x00?ÿÿ\\\\x00\\\\x05\\\\x00?ÿÿ\\\\x00\\\\x06\\\\x00\\\\x00 \\\\x00þ\\\\x03\\\\x00\\\\x00\\\\x00\\\\x01\\\\x00\\\\x00\\\\x04\\\\x08\\\\x00\\\\x00\\\\x00\\\\x00\\\\x00\\\\x00?\\\\x00\\\\x00'))\\n\"]}\u001b[0m\n"
     ]
    },
    {
     "ename": "ValueError",
     "evalue": "job submit failed, err msg: {'retcode': 100, 'retmsg': \"('Connection aborted.', BadStatusLine('\\\\x00\\\\x00\\\\x18\\\\x04\\\\x00\\\\x00\\\\x00\\\\x00\\\\x00\\\\x00\\\\x04\\\\x00?ÿÿ\\\\x00\\\\x05\\\\x00?ÿÿ\\\\x00\\\\x06\\\\x00\\\\x00 \\\\x00þ\\\\x03\\\\x00\\\\x00\\\\x00\\\\x01\\\\x00\\\\x00\\\\x04\\\\x08\\\\x00\\\\x00\\\\x00\\\\x00\\\\x00\\\\x00?\\\\x00\\\\x00'))\", 'traceback': ['Traceback (most recent call last):\\n', '  File \"/home/paul/.conda/envs/fate/lib/python3.8/site-packages/urllib3/connectionpool.py\", line 714, in urlopen\\n    httplib_response = self._make_request(\\n', '  File \"/home/paul/.conda/envs/fate/lib/python3.8/site-packages/urllib3/connectionpool.py\", line 466, in _make_request\\n    six.raise_from(e, None)\\n', '  File \"<string>\", line 3, in raise_from\\n', '  File \"/home/paul/.conda/envs/fate/lib/python3.8/site-packages/urllib3/connectionpool.py\", line 461, in _make_request\\n    httplib_response = conn.getresponse()\\n', '  File \"/home/paul/.conda/envs/fate/lib/python3.8/http/client.py\", line 1348, in getresponse\\n    response.begin()\\n', '  File \"/home/paul/.conda/envs/fate/lib/python3.8/http/client.py\", line 316, in begin\\n    version, status, reason = self._read_status()\\n', '  File \"/home/paul/.conda/envs/fate/lib/python3.8/http/client.py\", line 298, in _read_status\\n    raise BadStatusLine(line)\\n', 'http.client.BadStatusLine: \\x00\\x00\\x18\\x04\\x00\\x00\\x00\\x00\\x00\\x00\\x04\\x00?ÿÿ\\x00\\x05\\x00?ÿÿ\\x00\\x06\\x00\\x00 \\x00þ\\x03\\x00\\x00\\x00\\x01\\x00\\x00\\x04\\x08\\x00\\x00\\x00\\x00\\x00\\x00?\\x00\\x00\\n', '\\nDuring handling of the above exception, another exception occurred:\\n\\n', 'Traceback (most recent call last):\\n', '  File \"/home/paul/.conda/envs/fate/lib/python3.8/site-packages/requests/adapters.py\", line 486, in send\\n    resp = conn.urlopen(\\n', '  File \"/home/paul/.conda/envs/fate/lib/python3.8/site-packages/urllib3/connectionpool.py\", line 798, in urlopen\\n    retries = retries.increment(\\n', '  File \"/home/paul/.conda/envs/fate/lib/python3.8/site-packages/urllib3/util/retry.py\", line 550, in increment\\n    raise six.reraise(type(error), error, _stacktrace)\\n', '  File \"/home/paul/.conda/envs/fate/lib/python3.8/site-packages/urllib3/packages/six.py\", line 769, in reraise\\n    raise value.with_traceback(tb)\\n', '  File \"/home/paul/.conda/envs/fate/lib/python3.8/site-packages/urllib3/connectionpool.py\", line 714, in urlopen\\n    httplib_response = self._make_request(\\n', '  File \"/home/paul/.conda/envs/fate/lib/python3.8/site-packages/urllib3/connectionpool.py\", line 466, in _make_request\\n    six.raise_from(e, None)\\n', '  File \"<string>\", line 3, in raise_from\\n', '  File \"/home/paul/.conda/envs/fate/lib/python3.8/site-packages/urllib3/connectionpool.py\", line 461, in _make_request\\n    httplib_response = conn.getresponse()\\n', '  File \"/home/paul/.conda/envs/fate/lib/python3.8/http/client.py\", line 1348, in getresponse\\n    response.begin()\\n', '  File \"/home/paul/.conda/envs/fate/lib/python3.8/http/client.py\", line 316, in begin\\n    version, status, reason = self._read_status()\\n', '  File \"/home/paul/.conda/envs/fate/lib/python3.8/http/client.py\", line 298, in _read_status\\n    raise BadStatusLine(line)\\n', \"urllib3.exceptions.ProtocolError: ('Connection aborted.', BadStatusLine('\\\\x00\\\\x00\\\\x18\\\\x04\\\\x00\\\\x00\\\\x00\\\\x00\\\\x00\\\\x00\\\\x04\\\\x00?ÿÿ\\\\x00\\\\x05\\\\x00?ÿÿ\\\\x00\\\\x06\\\\x00\\\\x00 \\\\x00þ\\\\x03\\\\x00\\\\x00\\\\x00\\\\x01\\\\x00\\\\x00\\\\x04\\\\x08\\\\x00\\\\x00\\\\x00\\\\x00\\\\x00\\\\x00?\\\\x00\\\\x00'))\\n\", '\\nDuring handling of the above exception, another exception occurred:\\n\\n', 'Traceback (most recent call last):\\n', '  File \"/home/paul/.conda/envs/fate/lib/python3.8/site-packages/flow_sdk/client/base.py\", line 81, in _request\\n    response = self._http.send(prepped, stream=stream)\\n', '  File \"/home/paul/.conda/envs/fate/lib/python3.8/site-packages/requests/sessions.py\", line 703, in send\\n    r = adapter.send(request, **kwargs)\\n', '  File \"/home/paul/.conda/envs/fate/lib/python3.8/site-packages/requests/adapters.py\", line 501, in send\\n    raise ConnectionError(err, request=request)\\n', \"requests.exceptions.ConnectionError: ('Connection aborted.', BadStatusLine('\\\\x00\\\\x00\\\\x18\\\\x04\\\\x00\\\\x00\\\\x00\\\\x00\\\\x00\\\\x00\\\\x04\\\\x00?ÿÿ\\\\x00\\\\x05\\\\x00?ÿÿ\\\\x00\\\\x06\\\\x00\\\\x00 \\\\x00þ\\\\x03\\\\x00\\\\x00\\\\x00\\\\x01\\\\x00\\\\x00\\\\x04\\\\x08\\\\x00\\\\x00\\\\x00\\\\x00\\\\x00\\\\x00?\\\\x00\\\\x00'))\\n\"]}",
     "output_type": "error",
     "traceback": [
      "\u001b[0;31m---------------------------------------------------------------------------\u001b[0m",
      "\u001b[0;31mValueError\u001b[0m                                Traceback (most recent call last)",
      "File \u001b[0;32m~/.conda/envs/fate/lib/python3.8/site-packages/pipeline/utils/invoker/job_submitter.py:46\u001b[0m, in \u001b[0;36mJobInvoker.submit_job\u001b[0;34m(self, dsl, submit_conf, callback_func)\u001b[0m\n\u001b[1;32m     45\u001b[0m \u001b[38;5;28;01mif\u001b[39;00m \u001b[38;5;124m'\u001b[39m\u001b[38;5;124mretcode\u001b[39m\u001b[38;5;124m'\u001b[39m \u001b[38;5;129;01mnot\u001b[39;00m \u001b[38;5;129;01min\u001b[39;00m result \u001b[38;5;129;01mor\u001b[39;00m result[\u001b[38;5;124m\"\u001b[39m\u001b[38;5;124mretcode\u001b[39m\u001b[38;5;124m\"\u001b[39m] \u001b[38;5;241m!=\u001b[39m \u001b[38;5;241m0\u001b[39m:\n\u001b[0;32m---> 46\u001b[0m     \u001b[38;5;28;01mraise\u001b[39;00m \u001b[38;5;167;01mValueError\u001b[39;00m(\u001b[38;5;124mf\u001b[39m\u001b[38;5;124m\"\u001b[39m\u001b[38;5;124mretcode err, callback result is \u001b[39m\u001b[38;5;132;01m{\u001b[39;00mresult\u001b[38;5;132;01m}\u001b[39;00m\u001b[38;5;124m\"\u001b[39m)\n\u001b[1;32m     48\u001b[0m \u001b[38;5;28;01mif\u001b[39;00m \u001b[38;5;124m\"\u001b[39m\u001b[38;5;124mjobId\u001b[39m\u001b[38;5;124m\"\u001b[39m \u001b[38;5;129;01mnot\u001b[39;00m \u001b[38;5;129;01min\u001b[39;00m result:\n",
      "\u001b[0;31mValueError\u001b[0m: retcode err, callback result is {'retcode': 100, 'retmsg': \"('Connection aborted.', BadStatusLine('\\\\x00\\\\x00\\\\x18\\\\x04\\\\x00\\\\x00\\\\x00\\\\x00\\\\x00\\\\x00\\\\x04\\\\x00?ÿÿ\\\\x00\\\\x05\\\\x00?ÿÿ\\\\x00\\\\x06\\\\x00\\\\x00 \\\\x00þ\\\\x03\\\\x00\\\\x00\\\\x00\\\\x01\\\\x00\\\\x00\\\\x04\\\\x08\\\\x00\\\\x00\\\\x00\\\\x00\\\\x00\\\\x00?\\\\x00\\\\x00'))\", 'traceback': ['Traceback (most recent call last):\\n', '  File \"/home/paul/.conda/envs/fate/lib/python3.8/site-packages/urllib3/connectionpool.py\", line 714, in urlopen\\n    httplib_response = self._make_request(\\n', '  File \"/home/paul/.conda/envs/fate/lib/python3.8/site-packages/urllib3/connectionpool.py\", line 466, in _make_request\\n    six.raise_from(e, None)\\n', '  File \"<string>\", line 3, in raise_from\\n', '  File \"/home/paul/.conda/envs/fate/lib/python3.8/site-packages/urllib3/connectionpool.py\", line 461, in _make_request\\n    httplib_response = conn.getresponse()\\n', '  File \"/home/paul/.conda/envs/fate/lib/python3.8/http/client.py\", line 1348, in getresponse\\n    response.begin()\\n', '  File \"/home/paul/.conda/envs/fate/lib/python3.8/http/client.py\", line 316, in begin\\n    version, status, reason = self._read_status()\\n', '  File \"/home/paul/.conda/envs/fate/lib/python3.8/http/client.py\", line 298, in _read_status\\n    raise BadStatusLine(line)\\n', 'http.client.BadStatusLine: \\x00\\x00\\x18\\x04\\x00\\x00\\x00\\x00\\x00\\x00\\x04\\x00?ÿÿ\\x00\\x05\\x00?ÿÿ\\x00\\x06\\x00\\x00 \\x00þ\\x03\\x00\\x00\\x00\\x01\\x00\\x00\\x04\\x08\\x00\\x00\\x00\\x00\\x00\\x00?\\x00\\x00\\n', '\\nDuring handling of the above exception, another exception occurred:\\n\\n', 'Traceback (most recent call last):\\n', '  File \"/home/paul/.conda/envs/fate/lib/python3.8/site-packages/requests/adapters.py\", line 486, in send\\n    resp = conn.urlopen(\\n', '  File \"/home/paul/.conda/envs/fate/lib/python3.8/site-packages/urllib3/connectionpool.py\", line 798, in urlopen\\n    retries = retries.increment(\\n', '  File \"/home/paul/.conda/envs/fate/lib/python3.8/site-packages/urllib3/util/retry.py\", line 550, in increment\\n    raise six.reraise(type(error), error, _stacktrace)\\n', '  File \"/home/paul/.conda/envs/fate/lib/python3.8/site-packages/urllib3/packages/six.py\", line 769, in reraise\\n    raise value.with_traceback(tb)\\n', '  File \"/home/paul/.conda/envs/fate/lib/python3.8/site-packages/urllib3/connectionpool.py\", line 714, in urlopen\\n    httplib_response = self._make_request(\\n', '  File \"/home/paul/.conda/envs/fate/lib/python3.8/site-packages/urllib3/connectionpool.py\", line 466, in _make_request\\n    six.raise_from(e, None)\\n', '  File \"<string>\", line 3, in raise_from\\n', '  File \"/home/paul/.conda/envs/fate/lib/python3.8/site-packages/urllib3/connectionpool.py\", line 461, in _make_request\\n    httplib_response = conn.getresponse()\\n', '  File \"/home/paul/.conda/envs/fate/lib/python3.8/http/client.py\", line 1348, in getresponse\\n    response.begin()\\n', '  File \"/home/paul/.conda/envs/fate/lib/python3.8/http/client.py\", line 316, in begin\\n    version, status, reason = self._read_status()\\n', '  File \"/home/paul/.conda/envs/fate/lib/python3.8/http/client.py\", line 298, in _read_status\\n    raise BadStatusLine(line)\\n', \"urllib3.exceptions.ProtocolError: ('Connection aborted.', BadStatusLine('\\\\x00\\\\x00\\\\x18\\\\x04\\\\x00\\\\x00\\\\x00\\\\x00\\\\x00\\\\x00\\\\x04\\\\x00?ÿÿ\\\\x00\\\\x05\\\\x00?ÿÿ\\\\x00\\\\x06\\\\x00\\\\x00 \\\\x00þ\\\\x03\\\\x00\\\\x00\\\\x00\\\\x01\\\\x00\\\\x00\\\\x04\\\\x08\\\\x00\\\\x00\\\\x00\\\\x00\\\\x00\\\\x00?\\\\x00\\\\x00'))\\n\", '\\nDuring handling of the above exception, another exception occurred:\\n\\n', 'Traceback (most recent call last):\\n', '  File \"/home/paul/.conda/envs/fate/lib/python3.8/site-packages/flow_sdk/client/base.py\", line 81, in _request\\n    response = self._http.send(prepped, stream=stream)\\n', '  File \"/home/paul/.conda/envs/fate/lib/python3.8/site-packages/requests/sessions.py\", line 703, in send\\n    r = adapter.send(request, **kwargs)\\n', '  File \"/home/paul/.conda/envs/fate/lib/python3.8/site-packages/requests/adapters.py\", line 501, in send\\n    raise ConnectionError(err, request=request)\\n', \"requests.exceptions.ConnectionError: ('Connection aborted.', BadStatusLine('\\\\x00\\\\x00\\\\x18\\\\x04\\\\x00\\\\x00\\\\x00\\\\x00\\\\x00\\\\x00\\\\x04\\\\x00?ÿÿ\\\\x00\\\\x05\\\\x00?ÿÿ\\\\x00\\\\x06\\\\x00\\\\x00 \\\\x00þ\\\\x03\\\\x00\\\\x00\\\\x00\\\\x01\\\\x00\\\\x00\\\\x04\\\\x08\\\\x00\\\\x00\\\\x00\\\\x00\\\\x00\\\\x00?\\\\x00\\\\x00'))\\n\"]}",
      "\nDuring handling of the above exception, another exception occurred:\n",
      "\u001b[0;31mValueError\u001b[0m                                Traceback (most recent call last)",
      "Cell \u001b[0;32mIn[36], line 1\u001b[0m\n\u001b[0;32m----> 1\u001b[0m \u001b[43mpipeline\u001b[49m\u001b[38;5;241;43m.\u001b[39;49m\u001b[43mfit\u001b[49m\u001b[43m(\u001b[49m\u001b[43m)\u001b[49m\n",
      "File \u001b[0;32m~/.conda/envs/fate/lib/python3.8/site-packages/loguru/_logger.py:1251\u001b[0m, in \u001b[0;36mLogger.catch.<locals>.Catcher.__call__.<locals>.catch_wrapper\u001b[0;34m(*args, **kwargs)\u001b[0m\n\u001b[1;32m   1249\u001b[0m \u001b[38;5;28;01mdef\u001b[39;00m \u001b[38;5;21mcatch_wrapper\u001b[39m(\u001b[38;5;241m*\u001b[39margs, \u001b[38;5;241m*\u001b[39m\u001b[38;5;241m*\u001b[39mkwargs):\n\u001b[1;32m   1250\u001b[0m     \u001b[38;5;28;01mwith\u001b[39;00m catcher:\n\u001b[0;32m-> 1251\u001b[0m         \u001b[38;5;28;01mreturn\u001b[39;00m \u001b[43mfunction\u001b[49m\u001b[43m(\u001b[49m\u001b[38;5;241;43m*\u001b[39;49m\u001b[43margs\u001b[49m\u001b[43m,\u001b[49m\u001b[43m \u001b[49m\u001b[38;5;241;43m*\u001b[39;49m\u001b[38;5;241;43m*\u001b[39;49m\u001b[43mkwargs\u001b[49m\u001b[43m)\u001b[49m\n\u001b[1;32m   1252\u001b[0m     \u001b[38;5;28;01mreturn\u001b[39;00m default\n",
      "File \u001b[0;32m~/.conda/envs/fate/lib/python3.8/site-packages/pipeline/backend/pipeline.py:580\u001b[0m, in \u001b[0;36mPipeLine.fit\u001b[0;34m(self, job_parameters, callback_func)\u001b[0m\n\u001b[1;32m    578\u001b[0m \u001b[38;5;28mself\u001b[39m\u001b[38;5;241m.\u001b[39m_train_conf \u001b[38;5;241m=\u001b[39m training_conf\n\u001b[1;32m    579\u001b[0m LOGGER\u001b[38;5;241m.\u001b[39mdebug(\u001b[38;5;124mf\u001b[39m\u001b[38;5;124m\"\u001b[39m\u001b[38;5;124mtrain_conf is: \u001b[39m\u001b[38;5;130;01m\\n\u001b[39;00m\u001b[38;5;124m \u001b[39m\u001b[38;5;132;01m{\u001b[39;00mjson\u001b[38;5;241m.\u001b[39mdumps(training_conf,\u001b[38;5;250m \u001b[39mindent\u001b[38;5;241m=\u001b[39m\u001b[38;5;241m4\u001b[39m,\u001b[38;5;250m \u001b[39mensure_ascii\u001b[38;5;241m=\u001b[39m\u001b[38;5;28;01mFalse\u001b[39;00m)\u001b[38;5;132;01m}\u001b[39;00m\u001b[38;5;124m\"\u001b[39m)\n\u001b[0;32m--> 580\u001b[0m \u001b[38;5;28mself\u001b[39m\u001b[38;5;241m.\u001b[39m_train_job_id, detail_info \u001b[38;5;241m=\u001b[39m \u001b[38;5;28;43mself\u001b[39;49m\u001b[38;5;241;43m.\u001b[39;49m\u001b[43m_job_invoker\u001b[49m\u001b[38;5;241;43m.\u001b[39;49m\u001b[43msubmit_job\u001b[49m\u001b[43m(\u001b[49m\u001b[38;5;28;43mself\u001b[39;49m\u001b[38;5;241;43m.\u001b[39;49m\u001b[43m_train_dsl\u001b[49m\u001b[43m,\u001b[49m\u001b[43m \u001b[49m\u001b[43mtraining_conf\u001b[49m\u001b[43m,\u001b[49m\u001b[43m \u001b[49m\u001b[43mcallback_func\u001b[49m\u001b[43m)\u001b[49m\n\u001b[1;32m    581\u001b[0m \u001b[38;5;28mself\u001b[39m\u001b[38;5;241m.\u001b[39m_train_board_url \u001b[38;5;241m=\u001b[39m detail_info[\u001b[38;5;124m\"\u001b[39m\u001b[38;5;124mboard_url\u001b[39m\u001b[38;5;124m\"\u001b[39m]\n\u001b[1;32m    582\u001b[0m \u001b[38;5;28mself\u001b[39m\u001b[38;5;241m.\u001b[39m_model_info \u001b[38;5;241m=\u001b[39m SimpleNamespace(model_id\u001b[38;5;241m=\u001b[39mdetail_info[\u001b[38;5;124m\"\u001b[39m\u001b[38;5;124mmodel_info\u001b[39m\u001b[38;5;124m\"\u001b[39m][\u001b[38;5;124m\"\u001b[39m\u001b[38;5;124mmodel_id\u001b[39m\u001b[38;5;124m\"\u001b[39m],\n\u001b[1;32m    583\u001b[0m                                    model_version\u001b[38;5;241m=\u001b[39mdetail_info[\u001b[38;5;124m\"\u001b[39m\u001b[38;5;124mmodel_info\u001b[39m\u001b[38;5;124m\"\u001b[39m][\u001b[38;5;124m\"\u001b[39m\u001b[38;5;124mmodel_version\u001b[39m\u001b[38;5;124m\"\u001b[39m])\n",
      "File \u001b[0;32m~/.conda/envs/fate/lib/python3.8/site-packages/pipeline/utils/invoker/job_submitter.py:54\u001b[0m, in \u001b[0;36mJobInvoker.submit_job\u001b[0;34m(self, dsl, submit_conf, callback_func)\u001b[0m\n\u001b[1;32m     52\u001b[0m     data \u001b[38;5;241m=\u001b[39m result[\u001b[38;5;124m\"\u001b[39m\u001b[38;5;124mdata\u001b[39m\u001b[38;5;124m\"\u001b[39m]\n\u001b[1;32m     53\u001b[0m \u001b[38;5;28;01mexcept\u001b[39;00m \u001b[38;5;167;01mValueError\u001b[39;00m:\n\u001b[0;32m---> 54\u001b[0m     \u001b[38;5;28;01mraise\u001b[39;00m \u001b[38;5;167;01mValueError\u001b[39;00m(\u001b[38;5;124m\"\u001b[39m\u001b[38;5;124mjob submit failed, err msg: \u001b[39m\u001b[38;5;132;01m{}\u001b[39;00m\u001b[38;5;124m\"\u001b[39m\u001b[38;5;241m.\u001b[39mformat(result))\n\u001b[1;32m     55\u001b[0m \u001b[38;5;28;01mreturn\u001b[39;00m job_id, data\n",
      "\u001b[0;31mValueError\u001b[0m: job submit failed, err msg: {'retcode': 100, 'retmsg': \"('Connection aborted.', BadStatusLine('\\\\x00\\\\x00\\\\x18\\\\x04\\\\x00\\\\x00\\\\x00\\\\x00\\\\x00\\\\x00\\\\x04\\\\x00?ÿÿ\\\\x00\\\\x05\\\\x00?ÿÿ\\\\x00\\\\x06\\\\x00\\\\x00 \\\\x00þ\\\\x03\\\\x00\\\\x00\\\\x00\\\\x01\\\\x00\\\\x00\\\\x04\\\\x08\\\\x00\\\\x00\\\\x00\\\\x00\\\\x00\\\\x00?\\\\x00\\\\x00'))\", 'traceback': ['Traceback (most recent call last):\\n', '  File \"/home/paul/.conda/envs/fate/lib/python3.8/site-packages/urllib3/connectionpool.py\", line 714, in urlopen\\n    httplib_response = self._make_request(\\n', '  File \"/home/paul/.conda/envs/fate/lib/python3.8/site-packages/urllib3/connectionpool.py\", line 466, in _make_request\\n    six.raise_from(e, None)\\n', '  File \"<string>\", line 3, in raise_from\\n', '  File \"/home/paul/.conda/envs/fate/lib/python3.8/site-packages/urllib3/connectionpool.py\", line 461, in _make_request\\n    httplib_response = conn.getresponse()\\n', '  File \"/home/paul/.conda/envs/fate/lib/python3.8/http/client.py\", line 1348, in getresponse\\n    response.begin()\\n', '  File \"/home/paul/.conda/envs/fate/lib/python3.8/http/client.py\", line 316, in begin\\n    version, status, reason = self._read_status()\\n', '  File \"/home/paul/.conda/envs/fate/lib/python3.8/http/client.py\", line 298, in _read_status\\n    raise BadStatusLine(line)\\n', 'http.client.BadStatusLine: \\x00\\x00\\x18\\x04\\x00\\x00\\x00\\x00\\x00\\x00\\x04\\x00?ÿÿ\\x00\\x05\\x00?ÿÿ\\x00\\x06\\x00\\x00 \\x00þ\\x03\\x00\\x00\\x00\\x01\\x00\\x00\\x04\\x08\\x00\\x00\\x00\\x00\\x00\\x00?\\x00\\x00\\n', '\\nDuring handling of the above exception, another exception occurred:\\n\\n', 'Traceback (most recent call last):\\n', '  File \"/home/paul/.conda/envs/fate/lib/python3.8/site-packages/requests/adapters.py\", line 486, in send\\n    resp = conn.urlopen(\\n', '  File \"/home/paul/.conda/envs/fate/lib/python3.8/site-packages/urllib3/connectionpool.py\", line 798, in urlopen\\n    retries = retries.increment(\\n', '  File \"/home/paul/.conda/envs/fate/lib/python3.8/site-packages/urllib3/util/retry.py\", line 550, in increment\\n    raise six.reraise(type(error), error, _stacktrace)\\n', '  File \"/home/paul/.conda/envs/fate/lib/python3.8/site-packages/urllib3/packages/six.py\", line 769, in reraise\\n    raise value.with_traceback(tb)\\n', '  File \"/home/paul/.conda/envs/fate/lib/python3.8/site-packages/urllib3/connectionpool.py\", line 714, in urlopen\\n    httplib_response = self._make_request(\\n', '  File \"/home/paul/.conda/envs/fate/lib/python3.8/site-packages/urllib3/connectionpool.py\", line 466, in _make_request\\n    six.raise_from(e, None)\\n', '  File \"<string>\", line 3, in raise_from\\n', '  File \"/home/paul/.conda/envs/fate/lib/python3.8/site-packages/urllib3/connectionpool.py\", line 461, in _make_request\\n    httplib_response = conn.getresponse()\\n', '  File \"/home/paul/.conda/envs/fate/lib/python3.8/http/client.py\", line 1348, in getresponse\\n    response.begin()\\n', '  File \"/home/paul/.conda/envs/fate/lib/python3.8/http/client.py\", line 316, in begin\\n    version, status, reason = self._read_status()\\n', '  File \"/home/paul/.conda/envs/fate/lib/python3.8/http/client.py\", line 298, in _read_status\\n    raise BadStatusLine(line)\\n', \"urllib3.exceptions.ProtocolError: ('Connection aborted.', BadStatusLine('\\\\x00\\\\x00\\\\x18\\\\x04\\\\x00\\\\x00\\\\x00\\\\x00\\\\x00\\\\x00\\\\x04\\\\x00?ÿÿ\\\\x00\\\\x05\\\\x00?ÿÿ\\\\x00\\\\x06\\\\x00\\\\x00 \\\\x00þ\\\\x03\\\\x00\\\\x00\\\\x00\\\\x01\\\\x00\\\\x00\\\\x04\\\\x08\\\\x00\\\\x00\\\\x00\\\\x00\\\\x00\\\\x00?\\\\x00\\\\x00'))\\n\", '\\nDuring handling of the above exception, another exception occurred:\\n\\n', 'Traceback (most recent call last):\\n', '  File \"/home/paul/.conda/envs/fate/lib/python3.8/site-packages/flow_sdk/client/base.py\", line 81, in _request\\n    response = self._http.send(prepped, stream=stream)\\n', '  File \"/home/paul/.conda/envs/fate/lib/python3.8/site-packages/requests/sessions.py\", line 703, in send\\n    r = adapter.send(request, **kwargs)\\n', '  File \"/home/paul/.conda/envs/fate/lib/python3.8/site-packages/requests/adapters.py\", line 501, in send\\n    raise ConnectionError(err, request=request)\\n', \"requests.exceptions.ConnectionError: ('Connection aborted.', BadStatusLine('\\\\x00\\\\x00\\\\x18\\\\x04\\\\x00\\\\x00\\\\x00\\\\x00\\\\x00\\\\x00\\\\x04\\\\x00?ÿÿ\\\\x00\\\\x05\\\\x00?ÿÿ\\\\x00\\\\x06\\\\x00\\\\x00 \\\\x00þ\\\\x03\\\\x00\\\\x00\\\\x00\\\\x01\\\\x00\\\\x00\\\\x04\\\\x08\\\\x00\\\\x00\\\\x00\\\\x00\\\\x00\\\\x00?\\\\x00\\\\x00'))\\n\"]}"
     ]
    }
   ],
   "source": [
    "pipeline.fit()\n"
   ]
  },
  {
   "cell_type": "markdown",
   "metadata": {},
   "source": [
    "Once training is done, trained model may be used for prediction. Optionally, save the trained pipeline for future use."
   ]
  },
  {
   "cell_type": "code",
   "execution_count": 12,
   "metadata": {},
   "outputs": [],
   "source": [
    "pipeline.dump(\"pipeline_saved.pkl\");"
   ]
  },
  {
   "cell_type": "markdown",
   "metadata": {},
   "source": [
    "First, deploy needed components from train pipeline"
   ]
  },
  {
   "cell_type": "code",
   "execution_count": 13,
   "metadata": {},
   "outputs": [],
   "source": [
    "pipeline = PipeLine.load_model_from_file('pipeline_saved.pkl')\n",
    "pipeline.deploy_component([pipeline.data_transform_0, pipeline.intersect_0, pipeline.hetero_secureboost_0]);"
   ]
  },
  {
   "cell_type": "markdown",
   "metadata": {},
   "source": [
    "Define new `Reader` components for reading prediction data"
   ]
  },
  {
   "cell_type": "code",
   "execution_count": 14,
   "metadata": {},
   "outputs": [],
   "source": [
    "reader_1 = Reader(name=\"reader_1\")\n",
    "reader_1.get_party_instance(role=\"guest\", party_id=9999).component_param(table={\"name\": \"breast_hetero_guest\", \"namespace\": \"experiment\"})\n",
    "reader_1.get_party_instance(role=\"host\", party_id=10000).component_param(table={\"name\": \"breast_hetero_host\", \"namespace\": \"experiment\"})"
   ]
  },
  {
   "cell_type": "markdown",
   "metadata": {},
   "source": [
    "Optionally, define new `Evaluation` component."
   ]
  },
  {
   "cell_type": "code",
   "execution_count": 15,
   "metadata": {},
   "outputs": [],
   "source": [
    "evaluation_0 = Evaluation(name=\"evaluation_0\", eval_type=\"binary\")"
   ]
  },
  {
   "cell_type": "markdown",
   "metadata": {},
   "source": [
    "Add components to predict pipeline in order of execution:"
   ]
  },
  {
   "cell_type": "code",
   "execution_count": 16,
   "metadata": {},
   "outputs": [],
   "source": [
    "predict_pipeline = PipeLine()\n",
    "predict_pipeline.add_component(reader_1)\\\n",
    "                .add_component(pipeline, \n",
    "                               data=Data(predict_input={pipeline.data_transform_0.input.data: reader_1.output.data}))\\\n",
    "                .add_component(evaluation_0, data=Data(data=pipeline.hetero_secureboost_0.output.data));\n"
   ]
  },
  {
   "cell_type": "markdown",
   "metadata": {},
   "source": [
    "Then, run prediction job"
   ]
  },
  {
   "cell_type": "code",
   "execution_count": 17,
   "metadata": {},
   "outputs": [
    {
     "name": "stderr",
     "output_type": "stream",
     "text": [
      "\u001b[32m2021-12-31 03:25:35.541\u001b[0m | \u001b[1mINFO    \u001b[0m | \u001b[36mpipeline.utils.invoker.job_submitter\u001b[0m:\u001b[36mmonitor_job_status\u001b[0m:\u001b[36m123\u001b[0m - \u001b[1mJob id is 202112310325328444510\n",
      "\u001b[0m\n",
      "\u001b[32m2021-12-31 03:25:47.384\u001b[0m | \u001b[1mINFO    \u001b[0m | \u001b[36mpipeline.utils.invoker.job_submitter\u001b[0m:\u001b[36mmonitor_job_status\u001b[0m:\u001b[36m144\u001b[0m - \u001b[1m\u001b[80D\u001b[1A\u001b[KJob is still waiting, time elapse: 0:00:11\u001b[0m\n",
      "\u001b[0mm2021-12-31 03:25:47.903\u001b[0m | \u001b[1mINFO    \u001b[0m | \u001b[36mpipeline.utils.invoker.job_submitter\u001b[0m:\u001b[36mmonitor_job_status\u001b[0m:\u001b[36m173\u001b[0m - \u001b[1m\n",
      "\u001b[32m2021-12-31 03:25:52.078\u001b[0m | \u001b[1mINFO    \u001b[0m | \u001b[36mpipeline.utils.invoker.job_submitter\u001b[0m:\u001b[36mmonitor_job_status\u001b[0m:\u001b[36m177\u001b[0m - \u001b[1m\u001b[80D\u001b[1A\u001b[KRunning component reader_1, time elapse: 0:00:16\u001b[0m\n",
      "\u001b[0mm2021-12-31 03:25:54.161\u001b[0m | \u001b[1mINFO    \u001b[0m | \u001b[36mpipeline.utils.invoker.job_submitter\u001b[0m:\u001b[36mmonitor_job_status\u001b[0m:\u001b[36m173\u001b[0m - \u001b[1m\n",
      "\u001b[32m2021-12-31 03:25:58.545\u001b[0m | \u001b[1mINFO    \u001b[0m | \u001b[36mpipeline.utils.invoker.job_submitter\u001b[0m:\u001b[36mmonitor_job_status\u001b[0m:\u001b[36m177\u001b[0m - \u001b[1m\u001b[80D\u001b[1A\u001b[KRunning component data_transform_0, time elapse: 0:00:23\u001b[0m\n",
      "\u001b[0mm2021-12-31 03:26:01.167\u001b[0m | \u001b[1mINFO    \u001b[0m | \u001b[36mpipeline.utils.invoker.job_submitter\u001b[0m:\u001b[36mmonitor_job_status\u001b[0m:\u001b[36m173\u001b[0m - \u001b[1m\n",
      "\u001b[32m2021-12-31 03:26:07.502\u001b[0m | \u001b[1mINFO    \u001b[0m | \u001b[36mpipeline.utils.invoker.job_submitter\u001b[0m:\u001b[36mmonitor_job_status\u001b[0m:\u001b[36m177\u001b[0m - \u001b[1m\u001b[80D\u001b[1A\u001b[KRunning component intersect_0, time elapse: 0:00:31\u001b[0m\n",
      "\u001b[0mm2021-12-31 03:26:10.137\u001b[0m | \u001b[1mINFO    \u001b[0m | \u001b[36mpipeline.utils.invoker.job_submitter\u001b[0m:\u001b[36mmonitor_job_status\u001b[0m:\u001b[36m173\u001b[0m - \u001b[1m\n",
      "\u001b[32m2021-12-31 03:26:18.580\u001b[0m | \u001b[1mINFO    \u001b[0m | \u001b[36mpipeline.utils.invoker.job_submitter\u001b[0m:\u001b[36mmonitor_job_status\u001b[0m:\u001b[36m177\u001b[0m - \u001b[1m\u001b[80D\u001b[1A\u001b[KRunning component hetero_secureboost_0, time elapse: 0:00:43\u001b[0m\n",
      "\u001b[0mm2021-12-31 03:26:21.245\u001b[0m | \u001b[1mINFO    \u001b[0m | \u001b[36mpipeline.utils.invoker.job_submitter\u001b[0m:\u001b[36mmonitor_job_status\u001b[0m:\u001b[36m173\u001b[0m - \u001b[1m\n",
      "\u001b[32m2021-12-31 03:26:25.480\u001b[0m | \u001b[1mINFO    \u001b[0m | \u001b[36mpipeline.utils.invoker.job_submitter\u001b[0m:\u001b[36mmonitor_job_status\u001b[0m:\u001b[36m177\u001b[0m - \u001b[1m\u001b[80D\u001b[1A\u001b[KRunning component evaluation_0, time elapse: 0:00:49\u001b[0m\n",
      "\u001b[32m2021-12-31 03:26:28.136\u001b[0m | \u001b[1mINFO    \u001b[0m | \u001b[36mpipeline.utils.invoker.job_submitter\u001b[0m:\u001b[36mmonitor_job_status\u001b[0m:\u001b[36m131\u001b[0m - \u001b[1mJob is success!!! Job id is 202112310325328444510\u001b[0m\n",
      "\u001b[32m2021-12-31 03:26:28.143\u001b[0m | \u001b[1mINFO    \u001b[0m | \u001b[36mpipeline.utils.invoker.job_submitter\u001b[0m:\u001b[36mmonitor_job_status\u001b[0m:\u001b[36m132\u001b[0m - \u001b[1mTotal time: 0:00:52\u001b[0m\n"
     ]
    }
   ],
   "source": [
    "predict_pipeline.predict()"
   ]
  },
  {
   "cell_type": "markdown",
   "metadata": {},
   "source": [
    "For more demo on using pipeline to submit jobs, please refer to [pipeline demos](https://github.com/FederatedAI/FATE/tree/master/examples/pipeline/demo)"
   ]
  }
 ],
 "metadata": {
  "interpreter": {
   "hash": "ad4309918fa4cd1705b305e369b2f64d901b1851e9144aef7b9b07ea3efcb1bb"
  },
  "kernelspec": {
   "display_name": "Fate Client Enviornment",
   "language": "python",
   "name": "fate"
  },
  "language_info": {
   "codemirror_mode": {
    "name": "ipython",
    "version": 3
   },
   "file_extension": ".py",
   "mimetype": "text/x-python",
   "name": "python",
   "nbconvert_exporter": "python",
   "pygments_lexer": "ipython3",
   "version": "3.8.13"
  }
 },
 "nbformat": 4,
 "nbformat_minor": 4
}
